{
 "cells": [
  {
   "cell_type": "markdown",
   "metadata": {},
   "source": [
    "<div style=\"border:solid green 2px; padding: 20px\">\n",
    "\n",
    "<b>Привет, Максим!</b>\n",
    "\n",
    "Меня зовут Ярослав П. и я буду проверять твой проект. Попробую помочь сделать тебе его еще лучше!\n",
    "\n",
    "Предлагаю общаться на «**ты**». Если это неприемлемо, обязательно напиши мне в комментариях — мы перейдем на «**вы**».\n",
    "\n",
    "Ниже ты найдешь мои комментарии - пожалуйста, не перемещай, не изменяй и не удаляй их. Я буду использовать цветовую разметку:\n",
    "\n",
    "<div class=\"alert alert-danger\">\n",
    "<b>Комментарий ревьюера:</b> Так выделены самые важные замечания. Без их отработки проект не будет принят. </div>\n",
    "\n",
    "<div class=\"alert alert-warning\">\n",
    "<b>Комментарий ревьюера:</b> Так выделены небольшие замечания или советы.\n",
    "\n",
    "</div>\n",
    "\n",
    "<div class=\"alert alert-success\">\n",
    "<b>Комментарий ревьюера:</b> Так я выделяю все остальные комментарии.</div>\n",
    "\n",
    "Давай работать над проектом в диалоге: если ты что-то меняешь в проекте или отвечаешь на мои комменатри — пиши об этом. Мне будет легче отследить изменения, если ты выделишь свои комментарии:\n",
    "<div class=\"alert alert-info\"> <b>Комментарий студента:</b> Например, вот так.</div>\n",
    "\n",
    "Всё это поможет выполнить повторную проверку твоего проекта оперативнее. \n",
    "    \n",
    "    \n",
    "### <span style=\"color:orange\">Обратная связь</span><a class=\"tocSkip\">\n",
    "\n",
    "- Проект выполнен на высоком уровне.\n",
    "- Это только начало моделирования, но ты уже делаешь успехи.\n",
    "- Хорошо реализован подбор гиперпараметров и тестирование моделей.\n",
    "- Один момент - проверка на мультиколлинеарность. Оставил комментарий. И еще есть момент с делением на выборки.\n",
    "- Также оставил комментарий про проверку на адекватность.\n",
    "    \n",
    "### <span style=\"color:orange\">Обратная связь (v2)</span><a class=\"tocSkip\">\n",
    "\n",
    "- Проект отлично доработан, спасибо за уделенное время!\n",
    "    \n",
    "Проект принят, успехов в дальнейшем обучении!"
   ]
  },
  {
   "cell_type": "markdown",
   "metadata": {},
   "source": [
    "# Рекомендация тарифов"
   ]
  },
  {
   "cell_type": "markdown",
   "metadata": {},
   "source": [
    "В вашем распоряжении данные о поведении клиентов, которые уже перешли на эти тарифы (из проекта курса «Статистический анализ данных»). Нужно построить модель для задачи классификации, которая выберет подходящий тариф. Предобработка данных не понадобится — вы её уже сделали.\n",
    "\n",
    "Постройте модель с максимально большим значением *accuracy*. Чтобы сдать проект успешно, нужно довести долю правильных ответов по крайней мере до 0.75. Проверьте *accuracy* на тестовой выборке самостоятельно.\n",
    "\n"
   ]
  },
  {
   "cell_type": "markdown",
   "metadata": {},
   "source": [
    "<div class=\"alert alert-block alert-success\">\n",
    "<b>Комментарий ревьюера</b>\n",
    "\n",
    "Хорошее введение.\n",
    "\n",
    "</div>\n",
    "\n",
    "<div class=\"alert alert-block alert-warning\">\n",
    "<b>Комментарий ревьюера</b>\n",
    "\n",
    "Также в начале полезно дать описание данных, с которыми предстоит работа и содержание/шаги проекта.\n",
    "\n",
    "</div>"
   ]
  },
  {
   "cell_type": "markdown",
   "metadata": {},
   "source": [
    "## Откройте и изучите файл"
   ]
  },
  {
   "cell_type": "code",
   "execution_count": 1,
   "metadata": {},
   "outputs": [],
   "source": [
    "import pandas as pd\n",
    "from sklearn.model_selection import train_test_split\n",
    "from sklearn.ensemble import RandomForestClassifier\n",
    "from sklearn.tree import DecisionTreeClassifier\n",
    "from sklearn.linear_model import LogisticRegression\n",
    "from sklearn.metrics import accuracy_score\n",
    "import seaborn as sns\n",
    "import matplotlib.pyplot as plt"
   ]
  },
  {
   "cell_type": "code",
   "execution_count": 2,
   "metadata": {},
   "outputs": [
    {
     "name": "stdout",
     "output_type": "stream",
     "text": [
      "<class 'pandas.core.frame.DataFrame'>\n",
      "RangeIndex: 3214 entries, 0 to 3213\n",
      "Data columns (total 5 columns):\n",
      "calls       3214 non-null float64\n",
      "minutes     3214 non-null float64\n",
      "messages    3214 non-null float64\n",
      "mb_used     3214 non-null float64\n",
      "is_ultra    3214 non-null int64\n",
      "dtypes: float64(4), int64(1)\n",
      "memory usage: 125.7 KB\n"
     ]
    },
    {
     "data": {
      "text/plain": [
       "0    2229\n",
       "1     985\n",
       "Name: is_ultra, dtype: int64"
      ]
     },
     "execution_count": 2,
     "metadata": {},
     "output_type": "execute_result"
    }
   ],
   "source": [
    "df = pd.read_csv('/datasets/users_behavior.csv')\n",
    "df.info()\n",
    "df['is_ultra'].value_counts()"
   ]
  },
  {
   "cell_type": "code",
   "execution_count": 3,
   "metadata": {},
   "outputs": [
    {
     "data": {
      "text/html": [
       "<div>\n",
       "<style scoped>\n",
       "    .dataframe tbody tr th:only-of-type {\n",
       "        vertical-align: middle;\n",
       "    }\n",
       "\n",
       "    .dataframe tbody tr th {\n",
       "        vertical-align: top;\n",
       "    }\n",
       "\n",
       "    .dataframe thead th {\n",
       "        text-align: right;\n",
       "    }\n",
       "</style>\n",
       "<table border=\"1\" class=\"dataframe\">\n",
       "  <thead>\n",
       "    <tr style=\"text-align: right;\">\n",
       "      <th></th>\n",
       "      <th>calls</th>\n",
       "      <th>minutes</th>\n",
       "      <th>messages</th>\n",
       "      <th>mb_used</th>\n",
       "      <th>is_ultra</th>\n",
       "    </tr>\n",
       "  </thead>\n",
       "  <tbody>\n",
       "    <tr>\n",
       "      <td>0</td>\n",
       "      <td>40.0</td>\n",
       "      <td>311.90</td>\n",
       "      <td>83.0</td>\n",
       "      <td>19915.42</td>\n",
       "      <td>0</td>\n",
       "    </tr>\n",
       "    <tr>\n",
       "      <td>1</td>\n",
       "      <td>85.0</td>\n",
       "      <td>516.75</td>\n",
       "      <td>56.0</td>\n",
       "      <td>22696.96</td>\n",
       "      <td>0</td>\n",
       "    </tr>\n",
       "    <tr>\n",
       "      <td>2</td>\n",
       "      <td>77.0</td>\n",
       "      <td>467.66</td>\n",
       "      <td>86.0</td>\n",
       "      <td>21060.45</td>\n",
       "      <td>0</td>\n",
       "    </tr>\n",
       "    <tr>\n",
       "      <td>3</td>\n",
       "      <td>106.0</td>\n",
       "      <td>745.53</td>\n",
       "      <td>81.0</td>\n",
       "      <td>8437.39</td>\n",
       "      <td>1</td>\n",
       "    </tr>\n",
       "    <tr>\n",
       "      <td>4</td>\n",
       "      <td>66.0</td>\n",
       "      <td>418.74</td>\n",
       "      <td>1.0</td>\n",
       "      <td>14502.75</td>\n",
       "      <td>0</td>\n",
       "    </tr>\n",
       "  </tbody>\n",
       "</table>\n",
       "</div>"
      ],
      "text/plain": [
       "   calls  minutes  messages   mb_used  is_ultra\n",
       "0   40.0   311.90      83.0  19915.42         0\n",
       "1   85.0   516.75      56.0  22696.96         0\n",
       "2   77.0   467.66      86.0  21060.45         0\n",
       "3  106.0   745.53      81.0   8437.39         1\n",
       "4   66.0   418.74       1.0  14502.75         0"
      ]
     },
     "execution_count": 3,
     "metadata": {},
     "output_type": "execute_result"
    }
   ],
   "source": [
    "df.head()"
   ]
  },
  {
   "cell_type": "code",
   "execution_count": 4,
   "metadata": {},
   "outputs": [
    {
     "data": {
      "text/html": [
       "<div>\n",
       "<style scoped>\n",
       "    .dataframe tbody tr th:only-of-type {\n",
       "        vertical-align: middle;\n",
       "    }\n",
       "\n",
       "    .dataframe tbody tr th {\n",
       "        vertical-align: top;\n",
       "    }\n",
       "\n",
       "    .dataframe thead th {\n",
       "        text-align: right;\n",
       "    }\n",
       "</style>\n",
       "<table border=\"1\" class=\"dataframe\">\n",
       "  <thead>\n",
       "    <tr style=\"text-align: right;\">\n",
       "      <th></th>\n",
       "      <th>calls</th>\n",
       "      <th>minutes</th>\n",
       "      <th>messages</th>\n",
       "      <th>mb_used</th>\n",
       "      <th>is_ultra</th>\n",
       "    </tr>\n",
       "  </thead>\n",
       "  <tbody>\n",
       "    <tr>\n",
       "      <td>count</td>\n",
       "      <td>3214.000000</td>\n",
       "      <td>3214.000000</td>\n",
       "      <td>3214.000000</td>\n",
       "      <td>3214.000000</td>\n",
       "      <td>3214.000000</td>\n",
       "    </tr>\n",
       "    <tr>\n",
       "      <td>mean</td>\n",
       "      <td>63.038892</td>\n",
       "      <td>438.208787</td>\n",
       "      <td>38.281269</td>\n",
       "      <td>17207.673836</td>\n",
       "      <td>0.306472</td>\n",
       "    </tr>\n",
       "    <tr>\n",
       "      <td>std</td>\n",
       "      <td>33.236368</td>\n",
       "      <td>234.569872</td>\n",
       "      <td>36.148326</td>\n",
       "      <td>7570.968246</td>\n",
       "      <td>0.461100</td>\n",
       "    </tr>\n",
       "    <tr>\n",
       "      <td>min</td>\n",
       "      <td>0.000000</td>\n",
       "      <td>0.000000</td>\n",
       "      <td>0.000000</td>\n",
       "      <td>0.000000</td>\n",
       "      <td>0.000000</td>\n",
       "    </tr>\n",
       "    <tr>\n",
       "      <td>25%</td>\n",
       "      <td>40.000000</td>\n",
       "      <td>274.575000</td>\n",
       "      <td>9.000000</td>\n",
       "      <td>12491.902500</td>\n",
       "      <td>0.000000</td>\n",
       "    </tr>\n",
       "    <tr>\n",
       "      <td>50%</td>\n",
       "      <td>62.000000</td>\n",
       "      <td>430.600000</td>\n",
       "      <td>30.000000</td>\n",
       "      <td>16943.235000</td>\n",
       "      <td>0.000000</td>\n",
       "    </tr>\n",
       "    <tr>\n",
       "      <td>75%</td>\n",
       "      <td>82.000000</td>\n",
       "      <td>571.927500</td>\n",
       "      <td>57.000000</td>\n",
       "      <td>21424.700000</td>\n",
       "      <td>1.000000</td>\n",
       "    </tr>\n",
       "    <tr>\n",
       "      <td>max</td>\n",
       "      <td>244.000000</td>\n",
       "      <td>1632.060000</td>\n",
       "      <td>224.000000</td>\n",
       "      <td>49745.730000</td>\n",
       "      <td>1.000000</td>\n",
       "    </tr>\n",
       "  </tbody>\n",
       "</table>\n",
       "</div>"
      ],
      "text/plain": [
       "             calls      minutes     messages       mb_used     is_ultra\n",
       "count  3214.000000  3214.000000  3214.000000   3214.000000  3214.000000\n",
       "mean     63.038892   438.208787    38.281269  17207.673836     0.306472\n",
       "std      33.236368   234.569872    36.148326   7570.968246     0.461100\n",
       "min       0.000000     0.000000     0.000000      0.000000     0.000000\n",
       "25%      40.000000   274.575000     9.000000  12491.902500     0.000000\n",
       "50%      62.000000   430.600000    30.000000  16943.235000     0.000000\n",
       "75%      82.000000   571.927500    57.000000  21424.700000     1.000000\n",
       "max     244.000000  1632.060000   224.000000  49745.730000     1.000000"
      ]
     },
     "execution_count": 4,
     "metadata": {},
     "output_type": "execute_result"
    }
   ],
   "source": [
    "df.describe()"
   ]
  },
  {
   "cell_type": "markdown",
   "metadata": {},
   "source": [
    "<div class=\"alert alert-block alert-success\">\n",
    "<b>Комментарий ревьюера</b>\n",
    "\n",
    "Хороший первый взгляд на данные. \n",
    "\n",
    "</div>\n",
    "\n",
    "<div class=\"alert alert-block alert-danger\">\n",
    "<b>Комментарий ревьюера</b>\n",
    "\n",
    "<s>Однако стоит оставить комментарий по итогам шага - что заметили, все ли в порядке и т.д.\n",
    "\n",
    "</div>\n"
   ]
  },
  {
   "cell_type": "markdown",
   "metadata": {},
   "source": [
    "<div class=\"alert alert-info\"> <b>Комментарий студента:</b> Данные уже обработаны. 75% данных относится к тарифу Смарт, остальные - к более дорогому.</div>"
   ]
  },
  {
   "cell_type": "markdown",
   "metadata": {},
   "source": [
    "<div class=\"alert alert-block alert-warning\">\n",
    "<b>Комментарий ревьюера (v2)</b>\n",
    "\n",
    "Только там разделение 70 на 30 примерно.\n",
    "\n",
    "</div>\n"
   ]
  },
  {
   "cell_type": "markdown",
   "metadata": {},
   "source": [
    "<div class=\"alert alert-block alert-danger\">\n",
    "<b>Комментарий ревьюера</b>\n",
    "\n",
    "<s>Также прошу оценить мультиколлинеарность признаков (когда признаки модели имеют сильную связь друг с другом). Стоит найти коффиценты корреляции, построить график скатерплот. После этого нужно принять решение о включении в модель одного из признаков. В общем случае такие признаки лишь мешают друг другу и утяжеляют модель.  Здесь стоит экспериментировать (эксперименты - основа нашего дела 😉). Если же модели дают одинаковые результаты что с двумя признаками (calls и minutes), что с одним из них, то тогда точно стоит один из них дропнуть. Меньше признаков - легче модель, быстрее обучается, быстрее предсказывает, что всегда хорошо.\n",
    "\n",
    "</div>\n"
   ]
  },
  {
   "cell_type": "code",
   "execution_count": 5,
   "metadata": {},
   "outputs": [
    {
     "data": {
      "text/plain": [
       "calls       0.207122\n",
       "minutes     0.206955\n",
       "messages    0.203830\n",
       "mb_used     0.198568\n",
       "Name: is_ultra, dtype: float64"
      ]
     },
     "execution_count": 5,
     "metadata": {},
     "output_type": "execute_result"
    }
   ],
   "source": [
    "df[df.columns].corr()['is_ultra'][:-1]"
   ]
  },
  {
   "cell_type": "markdown",
   "metadata": {},
   "source": [
    "<div class=\"alert alert-info\"> <b>Комментарий студента:</b> Признаться, еще не полностью разбираюсь в терминах) Я без бэкграунда, в отличие от некоторых моих однокурсников и немного теряюсь, когда вопрос выходит за пределы конспекта. Вот попытался вычислить корреляцию между целевым признаком и остальными признаками - выходит так, что они все примерно одинакого, но слабо коррелируют с ним.</div>"
   ]
  },
  {
   "cell_type": "markdown",
   "metadata": {},
   "source": [
    "<div class=\"alert alert-block alert-warning\">\n",
    "<b>Комментарий ревьюера (v2)</b>\n",
    "\n",
    "Только в данном случае находить эту корреляцию не совсем корректно. Так как коэф. корреляции Пирсона предназначен для количественных переменных, а наш таргет - это категория.\n",
    "    \n",
    "Насчет того, что не полностью разбираешься - это полностью нормально! На то мы (ревьюеры) и преподаватели тут нужны :) Ну и конечно без самостоятельного поиска информации никуда.\n",
    "\n",
    "</div>\n"
   ]
  },
  {
   "cell_type": "code",
   "execution_count": 6,
   "metadata": {},
   "outputs": [
    {
     "data": {
      "text/html": [
       "<div>\n",
       "<style scoped>\n",
       "    .dataframe tbody tr th:only-of-type {\n",
       "        vertical-align: middle;\n",
       "    }\n",
       "\n",
       "    .dataframe tbody tr th {\n",
       "        vertical-align: top;\n",
       "    }\n",
       "\n",
       "    .dataframe thead th {\n",
       "        text-align: right;\n",
       "    }\n",
       "</style>\n",
       "<table border=\"1\" class=\"dataframe\">\n",
       "  <thead>\n",
       "    <tr style=\"text-align: right;\">\n",
       "      <th></th>\n",
       "      <th></th>\n",
       "      <th>calls</th>\n",
       "      <th>minutes</th>\n",
       "      <th>messages</th>\n",
       "      <th>mb_used</th>\n",
       "    </tr>\n",
       "    <tr>\n",
       "      <th>is_ultra</th>\n",
       "      <th></th>\n",
       "      <th></th>\n",
       "      <th></th>\n",
       "      <th></th>\n",
       "      <th></th>\n",
       "    </tr>\n",
       "  </thead>\n",
       "  <tbody>\n",
       "    <tr>\n",
       "      <td rowspan=\"4\" valign=\"top\">0</td>\n",
       "      <td>calls</td>\n",
       "      <td>1.000000</td>\n",
       "      <td>0.972654</td>\n",
       "      <td>0.208789</td>\n",
       "      <td>0.357349</td>\n",
       "    </tr>\n",
       "    <tr>\n",
       "      <td>minutes</td>\n",
       "      <td>0.972654</td>\n",
       "      <td>1.000000</td>\n",
       "      <td>0.203746</td>\n",
       "      <td>0.341639</td>\n",
       "    </tr>\n",
       "    <tr>\n",
       "      <td>messages</td>\n",
       "      <td>0.208789</td>\n",
       "      <td>0.203746</td>\n",
       "      <td>1.000000</td>\n",
       "      <td>0.146499</td>\n",
       "    </tr>\n",
       "    <tr>\n",
       "      <td>mb_used</td>\n",
       "      <td>0.357349</td>\n",
       "      <td>0.341639</td>\n",
       "      <td>0.146499</td>\n",
       "      <td>1.000000</td>\n",
       "    </tr>\n",
       "    <tr>\n",
       "      <td rowspan=\"4\" valign=\"top\">1</td>\n",
       "      <td>calls</td>\n",
       "      <td>1.000000</td>\n",
       "      <td>0.988235</td>\n",
       "      <td>0.087691</td>\n",
       "      <td>0.176856</td>\n",
       "    </tr>\n",
       "    <tr>\n",
       "      <td>minutes</td>\n",
       "      <td>0.988235</td>\n",
       "      <td>1.000000</td>\n",
       "      <td>0.083000</td>\n",
       "      <td>0.178003</td>\n",
       "    </tr>\n",
       "    <tr>\n",
       "      <td>messages</td>\n",
       "      <td>0.087691</td>\n",
       "      <td>0.083000</td>\n",
       "      <td>1.000000</td>\n",
       "      <td>0.173710</td>\n",
       "    </tr>\n",
       "    <tr>\n",
       "      <td>mb_used</td>\n",
       "      <td>0.176856</td>\n",
       "      <td>0.178003</td>\n",
       "      <td>0.173710</td>\n",
       "      <td>1.000000</td>\n",
       "    </tr>\n",
       "  </tbody>\n",
       "</table>\n",
       "</div>"
      ],
      "text/plain": [
       "                      calls   minutes  messages   mb_used\n",
       "is_ultra                                                 \n",
       "0        calls     1.000000  0.972654  0.208789  0.357349\n",
       "         minutes   0.972654  1.000000  0.203746  0.341639\n",
       "         messages  0.208789  0.203746  1.000000  0.146499\n",
       "         mb_used   0.357349  0.341639  0.146499  1.000000\n",
       "1        calls     1.000000  0.988235  0.087691  0.176856\n",
       "         minutes   0.988235  1.000000  0.083000  0.178003\n",
       "         messages  0.087691  0.083000  1.000000  0.173710\n",
       "         mb_used   0.176856  0.178003  0.173710  1.000000"
      ]
     },
     "execution_count": 6,
     "metadata": {},
     "output_type": "execute_result"
    }
   ],
   "source": [
    "df.groupby('is_ultra').corr()"
   ]
  },
  {
   "cell_type": "markdown",
   "metadata": {},
   "source": [
    "<div class=\"alert alert-info\"> <b>Комментарий студента:</b> Зато между собой, судя по значениям, неплохо коррелируют calls и minutes ~ 0.97/0.98 на обоих тарифах. Возможно, одной из этих двух колонок можно пренебречь.</div>"
   ]
  },
  {
   "cell_type": "markdown",
   "metadata": {},
   "source": [
    "<div class=\"alert alert-block alert-success\">\n",
    "<b>Комментарий ревьюера (v2)</b>\n",
    "\n",
    "Да, именно так! Круто, что рассмотрел корреляции в разрезе групп - очень интересное решение, можно сравнить поведение групп.\n",
    "\n",
    "</div>\n"
   ]
  },
  {
   "cell_type": "code",
   "execution_count": 7,
   "metadata": {},
   "outputs": [
    {
     "data": {
      "text/html": [
       "<div>\n",
       "<style scoped>\n",
       "    .dataframe tbody tr th:only-of-type {\n",
       "        vertical-align: middle;\n",
       "    }\n",
       "\n",
       "    .dataframe tbody tr th {\n",
       "        vertical-align: top;\n",
       "    }\n",
       "\n",
       "    .dataframe thead th {\n",
       "        text-align: right;\n",
       "    }\n",
       "</style>\n",
       "<table border=\"1\" class=\"dataframe\">\n",
       "  <thead>\n",
       "    <tr style=\"text-align: right;\">\n",
       "      <th></th>\n",
       "      <th>calls</th>\n",
       "      <th>messages</th>\n",
       "      <th>mb_used</th>\n",
       "      <th>is_ultra</th>\n",
       "    </tr>\n",
       "  </thead>\n",
       "  <tbody>\n",
       "    <tr>\n",
       "      <td>0</td>\n",
       "      <td>40.0</td>\n",
       "      <td>83.0</td>\n",
       "      <td>19915.42</td>\n",
       "      <td>0</td>\n",
       "    </tr>\n",
       "    <tr>\n",
       "      <td>1</td>\n",
       "      <td>85.0</td>\n",
       "      <td>56.0</td>\n",
       "      <td>22696.96</td>\n",
       "      <td>0</td>\n",
       "    </tr>\n",
       "    <tr>\n",
       "      <td>2</td>\n",
       "      <td>77.0</td>\n",
       "      <td>86.0</td>\n",
       "      <td>21060.45</td>\n",
       "      <td>0</td>\n",
       "    </tr>\n",
       "    <tr>\n",
       "      <td>3</td>\n",
       "      <td>106.0</td>\n",
       "      <td>81.0</td>\n",
       "      <td>8437.39</td>\n",
       "      <td>1</td>\n",
       "    </tr>\n",
       "    <tr>\n",
       "      <td>4</td>\n",
       "      <td>66.0</td>\n",
       "      <td>1.0</td>\n",
       "      <td>14502.75</td>\n",
       "      <td>0</td>\n",
       "    </tr>\n",
       "  </tbody>\n",
       "</table>\n",
       "</div>"
      ],
      "text/plain": [
       "   calls  messages   mb_used  is_ultra\n",
       "0   40.0      83.0  19915.42         0\n",
       "1   85.0      56.0  22696.96         0\n",
       "2   77.0      86.0  21060.45         0\n",
       "3  106.0      81.0   8437.39         1\n",
       "4   66.0       1.0  14502.75         0"
      ]
     },
     "execution_count": 7,
     "metadata": {},
     "output_type": "execute_result"
    }
   ],
   "source": [
    "df = df.drop(['minutes'], axis=1)\n",
    "df.head()"
   ]
  },
  {
   "cell_type": "markdown",
   "metadata": {},
   "source": [
    "## Разбейте данные на выборки"
   ]
  },
  {
   "cell_type": "code",
   "execution_count": 8,
   "metadata": {},
   "outputs": [],
   "source": [
    "df_train, df_valid = train_test_split(df, test_size=0.4, random_state=12345)\n",
    "df_valid, df_test = train_test_split(df_valid, test_size = 0.5, random_state=12345)"
   ]
  },
  {
   "cell_type": "markdown",
   "metadata": {},
   "source": [
    "__Разделим исходные данные на обучающую, валидационную и тестовую выборки__"
   ]
  },
  {
   "cell_type": "markdown",
   "metadata": {},
   "source": [
    "<div class=\"alert alert-block alert-success\">\n",
    "<b>Комментарий ревьюера</b>\n",
    "\n",
    "Хорошо, данные разделены.\n",
    "\n",
    "</div>\n",
    "\n",
    "<div class=\"alert alert-block alert-warning\">\n",
    "<b>Комментарий ревьюера</b>\n",
    "\n",
    "Также можно проконтролировать разбиение (методом shape или len()).\n",
    "\n",
    "</div>\n"
   ]
  },
  {
   "cell_type": "markdown",
   "metadata": {},
   "source": [
    "<div class=\"alert alert-block alert-danger\">\n",
    "<b>Комментарий ревьюера</b>\n",
    "\n",
    "<s>Однако разделение получилось не совсем такое, которое советуют использовать. Обычно делают 3:1:1. Для этого можно в первый раз от всего датафрема отрезать 0,2, а по второй раз - 0,25. Либо отрезать сначала 0,4, а потом маленькую выборку разделить пополам.\n",
    "\n",
    "</div>\n"
   ]
  },
  {
   "cell_type": "markdown",
   "metadata": {},
   "source": [
    "<div class=\"alert alert-info\"> <b>Комментарий студента:</b> Понятно. Отрезал сначала 0,4, а потом маленькую выборку разделил пополам.</div>"
   ]
  },
  {
   "cell_type": "markdown",
   "metadata": {},
   "source": [
    "<div class=\"alert alert-block alert-success\">\n",
    "<b>Комментарий ревьюера (v2)</b>\n",
    "\n",
    "👍\n",
    "\n",
    "</div>\n"
   ]
  },
  {
   "cell_type": "markdown",
   "metadata": {},
   "source": [
    "## Исследуйте модели"
   ]
  },
  {
   "cell_type": "markdown",
   "metadata": {},
   "source": [
    "__Определим признаки и целевые признаки для каждой из выборок__"
   ]
  },
  {
   "cell_type": "code",
   "execution_count": 9,
   "metadata": {},
   "outputs": [],
   "source": [
    "features = df.drop('is_ultra', axis=1)\n",
    "target = df['is_ultra']\n",
    "\n",
    "features_valid = df_valid.drop('is_ultra', axis=1)\n",
    "target_valid = df_valid['is_ultra']\n",
    "\n",
    "features_train = df_train.drop('is_ultra', axis=1)\n",
    "target_train = df_train['is_ultra']\n",
    "\n",
    "features_test = df_test.drop('is_ultra', axis=1)\n",
    "target_test = df_test['is_ultra']"
   ]
  },
  {
   "cell_type": "markdown",
   "metadata": {},
   "source": [
    "__Поскольку нам нужно построить модель для задачи классификации, а не регрессии, нам понядобятся следующие методы__"
   ]
  },
  {
   "cell_type": "markdown",
   "metadata": {},
   "source": [
    "- DecisionTreeClassifier\n",
    "- RandomForestClassifier\n",
    "- LogisticRegression"
   ]
  },
  {
   "cell_type": "markdown",
   "metadata": {},
   "source": [
    "__Исследуем качество разных моделей, меняя гиперпараметры__"
   ]
  },
  {
   "cell_type": "code",
   "execution_count": 10,
   "metadata": {},
   "outputs": [
    {
     "name": "stdout",
     "output_type": "stream",
     "text": [
      "Accuracy лучшей модели: 0.7962674961119751 с глубиной: 6 и количеством деревьев: 30\n"
     ]
    }
   ],
   "source": [
    "best_model = None\n",
    "best_result = 0\n",
    "max_depth = 0\n",
    "estimators = 0\n",
    "for est in range(10, 51, 5):\n",
    "    for depth in range(1, 11):\n",
    "        model =  RandomForestClassifier(random_state=12345, n_estimators=est, max_depth=depth)\n",
    "        model.fit(features_train, target_train) # обучим модель\n",
    "        predictions_valid = model.predict(features_valid) # получим предсказания модели\n",
    "        result = accuracy_score(target_valid, predictions_valid) # посчитаем качество модели\n",
    "        if result > best_result:\n",
    "            estimators = est\n",
    "            max_depth = depth\n",
    "            best_model = model\n",
    "            best_result = result\n",
    "print('Accuracy лучшей модели:', best_result, 'с глубиной:', max_depth, 'и количеством деревьев:', estimators)"
   ]
  },
  {
   "cell_type": "markdown",
   "metadata": {},
   "source": [
    "<div class=\"alert alert-block alert-warning\">\n",
    "<b>Комментарий ревьюера</b>\n",
    "\n",
    "Также стоило настроить глубину дерева для случайного леса, то есть пройтись двойным циклом.\n",
    "\n",
    "</div>\n"
   ]
  },
  {
   "cell_type": "markdown",
   "metadata": {},
   "source": [
    "<div class=\"alert alert-info\"> <b>Комментарий студента:</b> Прошелся двойным циклом.</div>"
   ]
  },
  {
   "cell_type": "markdown",
   "metadata": {},
   "source": [
    "<div class=\"alert alert-block alert-success\">\n",
    "<b>Комментарий ревьюера (v2)</b>\n",
    "\n",
    "Отлично!\n",
    "\n",
    "</div>\n"
   ]
  },
  {
   "cell_type": "code",
   "execution_count": 11,
   "metadata": {},
   "outputs": [
    {
     "name": "stdout",
     "output_type": "stream",
     "text": [
      "Accuracy лучшей модели: 0.7900466562986003 с глубиной: 5\n"
     ]
    }
   ],
   "source": [
    "best_model = None\n",
    "best_result = 0\n",
    "max_depth = 0\n",
    "for depth in range(1, 11):\n",
    "    model = DecisionTreeClassifier(random_state=12345, max_depth=depth)\n",
    "    model.fit(features_train, target_train) # обучим модель\n",
    "    predictions_valid = model.predict(features_valid) # получим предсказания модели\n",
    "    result = accuracy_score(target_valid, predictions_valid) # посчитаем качество модели\n",
    "    if result > best_result:\n",
    "        max_depth = depth\n",
    "        best_model = model\n",
    "        best_result = result\n",
    "print('Accuracy лучшей модели:', best_result, 'с глубиной:', max_depth)"
   ]
  },
  {
   "cell_type": "code",
   "execution_count": 12,
   "metadata": {},
   "outputs": [
    {
     "name": "stdout",
     "output_type": "stream",
     "text": [
      "Accuracy модели: 0.7511664074650077\n"
     ]
    },
    {
     "name": "stderr",
     "output_type": "stream",
     "text": [
      "/opt/conda/lib/python3.7/site-packages/sklearn/linear_model/logistic.py:432: FutureWarning: Default solver will be changed to 'lbfgs' in 0.22. Specify a solver to silence this warning.\n",
      "  FutureWarning)\n"
     ]
    }
   ],
   "source": [
    "model = LogisticRegression(random_state=12345)\n",
    "model.fit(features_train, target_train)\n",
    "result = model.score(features_valid, target_valid)\n",
    "\n",
    "print(\"Accuracy модели:\", result)"
   ]
  },
  {
   "cell_type": "markdown",
   "metadata": {},
   "source": [
    "__Как видно из результатов наибольшую точность демонстрирует RandomForestClassifier. Ее и возьмем для проверки на тестовой выборке.__"
   ]
  },
  {
   "cell_type": "markdown",
   "metadata": {},
   "source": [
    "<div class=\"alert alert-block alert-success\">\n",
    "<b>Комментарий ревьюера</b>\n",
    "\n",
    "Шаг выполнен здорово.\n",
    "\n",
    "</div>\n"
   ]
  },
  {
   "cell_type": "markdown",
   "metadata": {},
   "source": [
    "## Проверьте модель на тестовой выборке"
   ]
  },
  {
   "cell_type": "markdown",
   "metadata": {},
   "source": [
    "<div class=\"alert alert-block alert-warning\">\n",
    "<b>Комментарий ревьюера</b>\n",
    "\n",
    "Небольшой совет. Мы нашли лучшие параметры для наших моделей на валидационной выборке. Теперь стоит с найдеными параметрами обучить модели на выборке трейн+валид, и потом прогнать на тесте. Так показания должны улучшиться (но не факт 😉), так как наши модели обучатся на большем количестве данных.\n",
    "\n",
    "Логика такая. В нашем случае у нас не было отдельного датасета для тестирования, мы отрезали от основного небольшую часть (отложенная выборка). То есть остальные данные мы используем для обучения. Если обучить только на обучающей, что у нас полностью теряются валидационные данные - мы их не используем в модели, но они то у нас есть, жаль их выбрасывать.\n",
    "\n",
    "</div>\n"
   ]
  },
  {
   "cell_type": "markdown",
   "metadata": {},
   "source": [
    "<div class=\"alert alert-info\"> <b>Комментарий студента:</b> Эммм.. что-то я себя совсем тупым почувствовал) Либо в тренажере нам что-то не договаривают. Я вроде все больше выучиваю python и библиотеки, но с мышлением дата-сайнтиста дело обстоит как-то туго.</div>"
   ]
  },
  {
   "cell_type": "markdown",
   "metadata": {},
   "source": [
    "<div class=\"alert alert-block alert-success\">\n",
    "<b>Комментарий ревьюера (v2)</b>\n",
    "\n",
    "Это не самый очевидный момент, на самом деле :)\n",
    "\n",
    "</div>\n"
   ]
  },
  {
   "cell_type": "markdown",
   "metadata": {},
   "source": [
    "<div class=\"alert alert-block alert-warning\">\n",
    "<b>Комментарий ревьюера (v2)</b>\n",
    "\n",
    "Только не вижу эксперимента :( А попробовать стоит. Для объединения можно использовать метод `pd.concat`.\n",
    "\n",
    "</div>\n"
   ]
  },
  {
   "cell_type": "code",
   "execution_count": 13,
   "metadata": {},
   "outputs": [
    {
     "name": "stdout",
     "output_type": "stream",
     "text": [
      "Accuracy модели c количеством деревьев 30 и глубиной 6: 0.7900466562986003\n"
     ]
    }
   ],
   "source": [
    "model =  RandomForestClassifier(random_state=12345, n_estimators=30, max_depth=6)\n",
    "model.fit(features_train, target_train) # обучим модель\n",
    "predictions_test = model.predict(features_test) # получим предсказания модели\n",
    "result = accuracy_score(target_test, predictions_test) # посчитаем качество модели\n",
    "print('Accuracy модели c количеством деревьев 30 и глубиной 6:', result)"
   ]
  },
  {
   "cell_type": "markdown",
   "metadata": {},
   "source": [
    "При обучении модели на тестовой выборке, модель показала результат хороший результат 0.79"
   ]
  },
  {
   "cell_type": "markdown",
   "metadata": {},
   "source": [
    "<div class=\"alert alert-block alert-success\">\n",
    "<b>Комментарий ревьюера</b>\n",
    "\n",
    "Отличный результат.\n",
    "\n",
    "</div>\n"
   ]
  },
  {
   "cell_type": "markdown",
   "metadata": {},
   "source": [
    "## (бонус) Проверьте модели на адекватность"
   ]
  },
  {
   "cell_type": "markdown",
   "metadata": {},
   "source": [
    "Доля правильных ответов состовляет больше 0.75. Думаю, что модель можно назвать адекватной)"
   ]
  },
  {
   "cell_type": "code",
   "execution_count": 14,
   "metadata": {},
   "outputs": [
    {
     "data": {
      "text/plain": [
       "0    0.693528\n",
       "1    0.306472\n",
       "Name: is_ultra, dtype: float64"
      ]
     },
     "execution_count": 14,
     "metadata": {},
     "output_type": "execute_result"
    }
   ],
   "source": [
    "df['is_ultra'].value_counts(normalize=True)"
   ]
  },
  {
   "cell_type": "markdown",
   "metadata": {},
   "source": [
    "<div class=\"alert alert-block alert-warning\">\n",
    "<b>Комментарий ревьюера</b>\n",
    "\n",
    "В целом да, согласен :) Однако это проверка заключается в следующем. Под проверкой на адекватность обычно понимают сравнение с какой-то глупой моделью (например, константной, то есть той, которая всегда выдает одно число). Подумай, какие числа имеет смысл предсказывать в этой задаче в нашем случае, посчитай точность для каждого из этих чисел. Попробуй объяснить полученные результаты.\n",
    "    <br> Проверку на адекватность достаточно удобно реализовывать с помощью <a href=\"https://scikit-learn.org/stable/modules/generated/sklearn.dummy.DummyClassifier.html\"> DummyClassifier </a>. \n",
    "    <br> Точность правильной константной модели должна быть равна доли бОльшего класса.\n",
    "    \n",
    "Также это значение можно получить и без модели. В следующем спринте вы будете изучать баланс классов. Так вот, при изучении таргета смотрим его разбиение - в нашем случае 30% первого класса и 70% нулевого класса (примерно). Из этих процентов сразу становится понятно, что если мы предскажем всем нулевой класс, то получим 70% accuracy. Это цифру можно сразу держать в голове при моделировании.\n",
    "\n",
    ">`df['is_ultra'].value_counts(normalize=True)`\n",
    "\n",
    "</div>\n"
   ]
  },
  {
   "cell_type": "markdown",
   "metadata": {},
   "source": [
    "<div class=\"alert alert-info\"> <b>Комментарий студента:</b> Вот тут тоже у меня челюсть отпала)) Надеюсь эта история с глупой моделью прояснится в следующих уроках)).</div>"
   ]
  },
  {
   "cell_type": "markdown",
   "metadata": {},
   "source": [
    "<div class=\"alert alert-block alert-success\">\n",
    "<b>Комментарий ревьюера (v2)</b>\n",
    "\n",
    "Это будет вскользь, так как модель и правда глупая и особо много времени ей уделять жаль :) Но различные метрики для рандомных предсказаний будут рассмотрены.\n",
    "\n",
    "</div>\n"
   ]
  },
  {
   "cell_type": "markdown",
   "metadata": {},
   "source": [
    "<div class=\"alert alert-block alert-danger\">\n",
    "<b>Комментарий ревьюера</b>\n",
    "\n",
    "<s>Также было бы здорово оставить общий вывод - что было сделано, какие модели испытаны, какие результаты получили.\n",
    "\n",
    "</div>\n"
   ]
  },
  {
   "cell_type": "markdown",
   "metadata": {},
   "source": [
    "<div class=\"alert alert-info\"> <b>Комментарий студента:</b> В процессе работы были исследованы данные на предмет корреляции. Произведено разбиение на выборки и определение признаков для дальнейшего обучения. Изучены модели задач классификации. В результате достигнуто значение качества модели, которое может говорить, о приемлемой доле правильных ответов.</div>"
   ]
  },
  {
   "cell_type": "markdown",
   "metadata": {},
   "source": [
    "<div class=\"alert alert-block alert-success\">\n",
    "<b>Комментарий ревьюера (v2)</b>\n",
    "\n",
    "👍\n",
    "\n",
    "</div>\n"
   ]
  },
  {
   "cell_type": "markdown",
   "metadata": {},
   "source": [
    "## Чек-лист готовности проекта"
   ]
  },
  {
   "cell_type": "markdown",
   "metadata": {},
   "source": [
    "Поставьте 'x' в выполненных пунктах. Далее нажмите Shift+Enter."
   ]
  },
  {
   "cell_type": "markdown",
   "metadata": {},
   "source": [
    "- [x] Jupyter Notebook открыт\n",
    "- [ ] Весь код исполняется без ошибок\n",
    "- [ ] Ячейки с кодом расположены в порядке исполнения\n",
    "- [ ] Выполнено задание 1: данные загружены и изучены\n",
    "- [ ] Выполнено задание 2: данные разбиты на три выборки\n",
    "- [ ] Выполнено задание 3: проведено исследование моделей\n",
    "    - [ ] Рассмотрено больше одной модели\n",
    "    - [ ] Рассмотрено хотя бы 3 значения гипепараметров для какой-нибудь модели\n",
    "    - [ ] Написаны выводы по результатам исследования\n",
    "- [ ] Выполнено задание 3: Проведено тестирование\n",
    "- [ ] Удалось достичь accuracy не меньше 0.75\n"
   ]
  }
 ],
 "metadata": {
  "ExecuteTimeLog": [
   {
    "duration": 682,
    "start_time": "2021-06-26T18:44:41.327Z"
   },
   {
    "duration": 44,
    "start_time": "2021-06-26T18:44:42.011Z"
   },
   {
    "duration": 720,
    "start_time": "2021-06-26T18:45:46.187Z"
   },
   {
    "duration": 28,
    "start_time": "2021-06-26T18:45:46.910Z"
   },
   {
    "duration": 707,
    "start_time": "2021-06-26T18:46:06.483Z"
   },
   {
    "duration": 46,
    "start_time": "2021-06-26T18:46:07.192Z"
   },
   {
    "duration": 713,
    "start_time": "2021-06-26T18:48:35.690Z"
   },
   {
    "duration": 64,
    "start_time": "2021-06-26T18:48:36.405Z"
   },
   {
    "duration": 760,
    "start_time": "2021-06-26T18:49:17.365Z"
   },
   {
    "duration": 41,
    "start_time": "2021-06-26T18:49:18.128Z"
   },
   {
    "duration": 698,
    "start_time": "2021-06-26T18:49:49.915Z"
   },
   {
    "duration": 40,
    "start_time": "2021-06-26T18:49:50.616Z"
   },
   {
    "duration": 698,
    "start_time": "2021-06-26T18:50:06.302Z"
   },
   {
    "duration": 47,
    "start_time": "2021-06-26T18:50:07.002Z"
   },
   {
    "duration": 741,
    "start_time": "2021-06-26T18:50:29.350Z"
   },
   {
    "duration": 50,
    "start_time": "2021-06-26T18:50:30.093Z"
   },
   {
    "duration": 700,
    "start_time": "2021-06-26T18:51:06.308Z"
   },
   {
    "duration": 39,
    "start_time": "2021-06-26T18:51:07.011Z"
   },
   {
    "duration": 13,
    "start_time": "2021-06-26T18:51:07.052Z"
   },
   {
    "duration": 731,
    "start_time": "2021-06-26T18:52:31.561Z"
   },
   {
    "duration": 42,
    "start_time": "2021-06-26T18:52:32.295Z"
   },
   {
    "duration": 46,
    "start_time": "2021-06-26T18:52:32.342Z"
   },
   {
    "duration": 37,
    "start_time": "2021-06-26T18:52:32.392Z"
   },
   {
    "duration": 1352,
    "start_time": "2021-06-27T12:14:15.572Z"
   },
   {
    "duration": 38,
    "start_time": "2021-06-27T12:14:16.927Z"
   },
   {
    "duration": 15,
    "start_time": "2021-06-27T12:14:16.968Z"
   },
   {
    "duration": 57,
    "start_time": "2021-06-27T12:14:16.985Z"
   },
   {
    "duration": 11,
    "start_time": "2021-06-27T12:14:17.045Z"
   },
   {
    "duration": 1395,
    "start_time": "2021-06-27T12:37:12.953Z"
   },
   {
    "duration": 40,
    "start_time": "2021-06-27T12:37:14.351Z"
   },
   {
    "duration": 25,
    "start_time": "2021-06-27T12:37:14.395Z"
   },
   {
    "duration": 37,
    "start_time": "2021-06-27T12:37:14.423Z"
   },
   {
    "duration": 45,
    "start_time": "2021-06-27T12:37:14.464Z"
   },
   {
    "duration": 482,
    "start_time": "2021-06-27T12:37:14.511Z"
   },
   {
    "duration": -75,
    "start_time": "2021-06-27T12:37:15.071Z"
   },
   {
    "duration": 1440,
    "start_time": "2021-06-27T12:37:37.855Z"
   },
   {
    "duration": 36,
    "start_time": "2021-06-27T12:37:39.298Z"
   },
   {
    "duration": 13,
    "start_time": "2021-06-27T12:37:39.337Z"
   },
   {
    "duration": 58,
    "start_time": "2021-06-27T12:37:39.352Z"
   },
   {
    "duration": 8,
    "start_time": "2021-06-27T12:37:39.413Z"
   },
   {
    "duration": 469,
    "start_time": "2021-06-27T12:37:39.424Z"
   },
   {
    "duration": 3,
    "start_time": "2021-06-27T12:37:39.893Z"
   },
   {
    "duration": 1422,
    "start_time": "2021-06-27T12:38:00.739Z"
   },
   {
    "duration": 40,
    "start_time": "2021-06-27T12:38:02.163Z"
   },
   {
    "duration": 15,
    "start_time": "2021-06-27T12:38:02.211Z"
   },
   {
    "duration": 59,
    "start_time": "2021-06-27T12:38:02.228Z"
   },
   {
    "duration": 28,
    "start_time": "2021-06-27T12:38:02.289Z"
   },
   {
    "duration": 27,
    "start_time": "2021-06-27T12:38:02.320Z"
   },
   {
    "duration": 348,
    "start_time": "2021-06-27T12:38:02.349Z"
   },
   {
    "duration": 1391,
    "start_time": "2021-06-27T12:39:52.587Z"
   },
   {
    "duration": 38,
    "start_time": "2021-06-27T12:39:53.981Z"
   },
   {
    "duration": 15,
    "start_time": "2021-06-27T12:39:54.022Z"
   },
   {
    "duration": 37,
    "start_time": "2021-06-27T12:39:54.040Z"
   },
   {
    "duration": 35,
    "start_time": "2021-06-27T12:39:54.080Z"
   },
   {
    "duration": 11,
    "start_time": "2021-06-27T12:39:54.117Z"
   },
   {
    "duration": 2799,
    "start_time": "2021-06-27T12:39:54.130Z"
   },
   {
    "duration": 1411,
    "start_time": "2021-06-27T13:02:22.836Z"
   },
   {
    "duration": 42,
    "start_time": "2021-06-27T13:02:24.250Z"
   },
   {
    "duration": 18,
    "start_time": "2021-06-27T13:02:24.311Z"
   },
   {
    "duration": 37,
    "start_time": "2021-06-27T13:02:24.333Z"
   },
   {
    "duration": 43,
    "start_time": "2021-06-27T13:02:24.373Z"
   },
   {
    "duration": 18,
    "start_time": "2021-06-27T13:02:24.419Z"
   },
   {
    "duration": 3828,
    "start_time": "2021-06-27T13:02:24.440Z"
   },
   {
    "duration": 1459,
    "start_time": "2021-06-27T14:21:05.507Z"
   },
   {
    "duration": 39,
    "start_time": "2021-06-27T14:21:06.969Z"
   },
   {
    "duration": 15,
    "start_time": "2021-06-27T14:21:07.011Z"
   },
   {
    "duration": 42,
    "start_time": "2021-06-27T14:21:07.028Z"
   },
   {
    "duration": 42,
    "start_time": "2021-06-27T14:21:07.072Z"
   },
   {
    "duration": 10,
    "start_time": "2021-06-27T14:21:07.117Z"
   },
   {
    "duration": 3837,
    "start_time": "2021-06-27T14:21:07.130Z"
   },
   {
    "duration": 485,
    "start_time": "2021-06-27T14:21:10.970Z"
   },
   {
    "duration": 1383,
    "start_time": "2021-06-27T14:22:13.603Z"
   },
   {
    "duration": 40,
    "start_time": "2021-06-27T14:22:14.989Z"
   },
   {
    "duration": 13,
    "start_time": "2021-06-27T14:22:15.032Z"
   },
   {
    "duration": 62,
    "start_time": "2021-06-27T14:22:15.048Z"
   },
   {
    "duration": 9,
    "start_time": "2021-06-27T14:22:15.113Z"
   },
   {
    "duration": 16,
    "start_time": "2021-06-27T14:22:15.124Z"
   },
   {
    "duration": 4147,
    "start_time": "2021-06-27T14:22:15.142Z"
   },
   {
    "duration": 120,
    "start_time": "2021-06-27T14:22:19.292Z"
   },
   {
    "duration": 1416,
    "start_time": "2021-06-27T14:30:17.448Z"
   },
   {
    "duration": 38,
    "start_time": "2021-06-27T14:30:18.866Z"
   },
   {
    "duration": 15,
    "start_time": "2021-06-27T14:30:18.910Z"
   },
   {
    "duration": 39,
    "start_time": "2021-06-27T14:30:18.927Z"
   },
   {
    "duration": 41,
    "start_time": "2021-06-27T14:30:18.968Z"
   },
   {
    "duration": 16,
    "start_time": "2021-06-27T14:30:19.012Z"
   },
   {
    "duration": 3787,
    "start_time": "2021-06-27T14:30:19.031Z"
   },
   {
    "duration": 119,
    "start_time": "2021-06-27T14:30:22.821Z"
   },
   {
    "duration": 23,
    "start_time": "2021-06-27T14:30:22.944Z"
   },
   {
    "duration": 1405,
    "start_time": "2021-06-27T14:41:51.004Z"
   },
   {
    "duration": 38,
    "start_time": "2021-06-27T14:41:52.411Z"
   },
   {
    "duration": 14,
    "start_time": "2021-06-27T14:41:52.452Z"
   },
   {
    "duration": 62,
    "start_time": "2021-06-27T14:41:52.468Z"
   },
   {
    "duration": 9,
    "start_time": "2021-06-27T14:41:52.532Z"
   },
   {
    "duration": 14,
    "start_time": "2021-06-27T14:41:52.543Z"
   },
   {
    "duration": 1021,
    "start_time": "2021-06-27T14:41:52.559Z"
   },
   {
    "duration": 107,
    "start_time": "2021-06-27T14:41:53.583Z"
   },
   {
    "duration": 35,
    "start_time": "2021-06-27T14:41:53.692Z"
   },
   {
    "duration": 1371,
    "start_time": "2021-06-27T14:42:31.086Z"
   },
   {
    "duration": 37,
    "start_time": "2021-06-27T14:42:32.459Z"
   },
   {
    "duration": 14,
    "start_time": "2021-06-27T14:42:32.509Z"
   },
   {
    "duration": 42,
    "start_time": "2021-06-27T14:42:32.526Z"
   },
   {
    "duration": 38,
    "start_time": "2021-06-27T14:42:32.571Z"
   },
   {
    "duration": 10,
    "start_time": "2021-06-27T14:42:32.612Z"
   },
   {
    "duration": 1820,
    "start_time": "2021-06-27T14:42:32.624Z"
   },
   {
    "duration": 115,
    "start_time": "2021-06-27T14:42:34.447Z"
   },
   {
    "duration": 23,
    "start_time": "2021-06-27T14:42:34.566Z"
   },
   {
    "duration": 1389,
    "start_time": "2021-06-27T14:44:16.235Z"
   },
   {
    "duration": 39,
    "start_time": "2021-06-27T14:44:17.626Z"
   },
   {
    "duration": 15,
    "start_time": "2021-06-27T14:44:17.668Z"
   },
   {
    "duration": 36,
    "start_time": "2021-06-27T14:44:17.709Z"
   },
   {
    "duration": 9,
    "start_time": "2021-06-27T14:44:17.748Z"
   },
   {
    "duration": 49,
    "start_time": "2021-06-27T14:44:17.760Z"
   },
   {
    "duration": 1801,
    "start_time": "2021-06-27T14:44:17.812Z"
   },
   {
    "duration": 113,
    "start_time": "2021-06-27T14:44:19.616Z"
   },
   {
    "duration": 22,
    "start_time": "2021-06-27T14:44:19.732Z"
   },
   {
    "duration": 358,
    "start_time": "2021-06-27T14:44:19.756Z"
   },
   {
    "duration": 1431,
    "start_time": "2021-06-27T14:45:25.217Z"
   },
   {
    "duration": 43,
    "start_time": "2021-06-27T14:45:26.651Z"
   },
   {
    "duration": 22,
    "start_time": "2021-06-27T14:45:26.698Z"
   },
   {
    "duration": 36,
    "start_time": "2021-06-27T14:45:26.723Z"
   },
   {
    "duration": 48,
    "start_time": "2021-06-27T14:45:26.761Z"
   },
   {
    "duration": 15,
    "start_time": "2021-06-27T14:45:26.812Z"
   },
   {
    "duration": 1856,
    "start_time": "2021-06-27T14:45:26.830Z"
   },
   {
    "duration": 109,
    "start_time": "2021-06-27T14:45:28.688Z"
   },
   {
    "duration": 23,
    "start_time": "2021-06-27T14:45:28.809Z"
   },
   {
    "duration": 362,
    "start_time": "2021-06-27T14:45:28.835Z"
   },
   {
    "duration": 18,
    "start_time": "2021-06-27T14:45:29.199Z"
   },
   {
    "duration": 1836,
    "start_time": "2021-06-27T14:45:54.607Z"
   },
   {
    "duration": 36,
    "start_time": "2021-06-27T14:45:56.446Z"
   },
   {
    "duration": 26,
    "start_time": "2021-06-27T14:45:56.485Z"
   },
   {
    "duration": 39,
    "start_time": "2021-06-27T14:45:56.514Z"
   },
   {
    "duration": 10,
    "start_time": "2021-06-27T14:45:56.556Z"
   },
   {
    "duration": 43,
    "start_time": "2021-06-27T14:45:56.569Z"
   },
   {
    "duration": 1885,
    "start_time": "2021-06-27T14:45:56.615Z"
   },
   {
    "duration": 121,
    "start_time": "2021-06-27T14:45:58.502Z"
   },
   {
    "duration": 22,
    "start_time": "2021-06-27T14:45:58.626Z"
   },
   {
    "duration": 354,
    "start_time": "2021-06-27T14:45:58.650Z"
   },
   {
    "duration": 8,
    "start_time": "2021-06-27T14:45:59.010Z"
   },
   {
    "duration": 1375,
    "start_time": "2021-06-27T14:47:37.413Z"
   },
   {
    "duration": 38,
    "start_time": "2021-06-27T14:47:38.791Z"
   },
   {
    "duration": 13,
    "start_time": "2021-06-27T14:47:38.832Z"
   },
   {
    "duration": 64,
    "start_time": "2021-06-27T14:47:38.848Z"
   },
   {
    "duration": 9,
    "start_time": "2021-06-27T14:47:38.914Z"
   },
   {
    "duration": 11,
    "start_time": "2021-06-27T14:47:38.925Z"
   },
   {
    "duration": 1784,
    "start_time": "2021-06-27T14:47:38.939Z"
   },
   {
    "duration": 118,
    "start_time": "2021-06-27T14:47:40.725Z"
   },
   {
    "duration": 23,
    "start_time": "2021-06-27T14:47:40.846Z"
   },
   {
    "duration": 351,
    "start_time": "2021-06-27T14:47:40.871Z"
   },
   {
    "duration": 114,
    "start_time": "2021-06-27T14:47:41.224Z"
   },
   {
    "duration": 1535,
    "start_time": "2021-06-27T18:05:29.643Z"
   },
   {
    "duration": 41,
    "start_time": "2021-06-27T18:05:31.181Z"
   },
   {
    "duration": 16,
    "start_time": "2021-06-27T18:05:31.226Z"
   },
   {
    "duration": 63,
    "start_time": "2021-06-27T18:05:31.246Z"
   },
   {
    "duration": 10,
    "start_time": "2021-06-27T18:05:31.311Z"
   },
   {
    "duration": 16,
    "start_time": "2021-06-27T18:05:31.323Z"
   },
   {
    "duration": 1854,
    "start_time": "2021-06-27T18:05:31.342Z"
   },
   {
    "duration": 149,
    "start_time": "2021-06-27T18:05:33.199Z"
   },
   {
    "duration": 22,
    "start_time": "2021-06-27T18:05:33.351Z"
   },
   {
    "duration": 353,
    "start_time": "2021-06-27T18:05:33.376Z"
   },
   {
    "duration": 1574,
    "start_time": "2021-06-27T18:34:11.669Z"
   },
   {
    "duration": 40,
    "start_time": "2021-06-27T18:34:13.246Z"
   },
   {
    "duration": 18,
    "start_time": "2021-06-27T18:34:13.300Z"
   },
   {
    "duration": 39,
    "start_time": "2021-06-27T18:34:13.322Z"
   },
   {
    "duration": 42,
    "start_time": "2021-06-27T18:34:13.363Z"
   },
   {
    "duration": 12,
    "start_time": "2021-06-27T18:34:13.407Z"
   },
   {
    "duration": 1802,
    "start_time": "2021-06-27T18:34:13.421Z"
   },
   {
    "duration": 105,
    "start_time": "2021-06-27T18:34:15.226Z"
   },
   {
    "duration": 23,
    "start_time": "2021-06-27T18:34:15.335Z"
   },
   {
    "duration": 342,
    "start_time": "2021-06-27T18:34:15.361Z"
   },
   {
    "duration": 6,
    "start_time": "2021-06-27T19:15:14.926Z"
   },
   {
    "duration": 1345,
    "start_time": "2021-06-27T19:54:47.946Z"
   },
   {
    "duration": 40,
    "start_time": "2021-06-27T19:54:49.294Z"
   },
   {
    "duration": 23,
    "start_time": "2021-06-27T19:54:49.340Z"
   },
   {
    "duration": 34,
    "start_time": "2021-06-27T19:54:49.365Z"
   },
   {
    "duration": 21,
    "start_time": "2021-06-27T19:54:49.401Z"
   },
   {
    "duration": 10,
    "start_time": "2021-06-27T19:54:49.455Z"
   },
   {
    "duration": 11,
    "start_time": "2021-06-27T19:54:49.468Z"
   },
   {
    "duration": 1859,
    "start_time": "2021-06-27T19:54:49.482Z"
   },
   {
    "duration": 98,
    "start_time": "2021-06-27T19:54:51.343Z"
   },
   {
    "duration": 30,
    "start_time": "2021-06-27T19:54:51.444Z"
   },
   {
    "duration": 339,
    "start_time": "2021-06-27T19:54:51.476Z"
   },
   {
    "duration": 1361,
    "start_time": "2021-06-27T19:55:35.628Z"
   },
   {
    "duration": 39,
    "start_time": "2021-06-27T19:55:36.992Z"
   },
   {
    "duration": 23,
    "start_time": "2021-06-27T19:55:37.037Z"
   },
   {
    "duration": 36,
    "start_time": "2021-06-27T19:55:37.062Z"
   },
   {
    "duration": 24,
    "start_time": "2021-06-27T19:55:37.100Z"
   },
   {
    "duration": 35,
    "start_time": "2021-06-27T19:55:37.126Z"
   },
   {
    "duration": 18,
    "start_time": "2021-06-27T19:55:37.163Z"
   },
   {
    "duration": 1718,
    "start_time": "2021-06-27T19:55:37.184Z"
   },
   {
    "duration": 106,
    "start_time": "2021-06-27T19:55:38.905Z"
   },
   {
    "duration": 23,
    "start_time": "2021-06-27T19:55:39.013Z"
   },
   {
    "duration": 348,
    "start_time": "2021-06-27T19:55:39.038Z"
   },
   {
    "duration": 1315,
    "start_time": "2021-06-27T19:56:40.977Z"
   },
   {
    "duration": 40,
    "start_time": "2021-06-27T19:56:42.295Z"
   },
   {
    "duration": 18,
    "start_time": "2021-06-27T19:56:42.338Z"
   },
   {
    "duration": 35,
    "start_time": "2021-06-27T19:56:42.358Z"
   },
   {
    "duration": 60,
    "start_time": "2021-06-27T19:56:42.395Z"
   },
   {
    "duration": 11,
    "start_time": "2021-06-27T19:56:42.458Z"
   },
   {
    "duration": 13,
    "start_time": "2021-06-27T19:56:42.472Z"
   },
   {
    "duration": 1791,
    "start_time": "2021-06-27T19:56:42.487Z"
   },
   {
    "duration": 111,
    "start_time": "2021-06-27T19:56:44.283Z"
   },
   {
    "duration": 23,
    "start_time": "2021-06-27T19:56:44.397Z"
   },
   {
    "duration": 345,
    "start_time": "2021-06-27T19:56:44.422Z"
   },
   {
    "duration": 1596,
    "start_time": "2021-06-27T20:01:16.113Z"
   },
   {
    "duration": 40,
    "start_time": "2021-06-27T20:01:17.711Z"
   },
   {
    "duration": 15,
    "start_time": "2021-06-27T20:01:17.756Z"
   },
   {
    "duration": 36,
    "start_time": "2021-06-27T20:01:17.774Z"
   },
   {
    "duration": 391,
    "start_time": "2021-06-27T20:01:17.813Z"
   },
   {
    "duration": -48,
    "start_time": "2021-06-27T20:01:18.256Z"
   },
   {
    "duration": -48,
    "start_time": "2021-06-27T20:01:18.258Z"
   },
   {
    "duration": -47,
    "start_time": "2021-06-27T20:01:18.260Z"
   },
   {
    "duration": -50,
    "start_time": "2021-06-27T20:01:18.265Z"
   },
   {
    "duration": -50,
    "start_time": "2021-06-27T20:01:18.267Z"
   },
   {
    "duration": -48,
    "start_time": "2021-06-27T20:01:18.268Z"
   },
   {
    "duration": 1350,
    "start_time": "2021-06-27T20:01:33.635Z"
   },
   {
    "duration": 43,
    "start_time": "2021-06-27T20:01:34.988Z"
   },
   {
    "duration": 26,
    "start_time": "2021-06-27T20:01:35.035Z"
   },
   {
    "duration": 36,
    "start_time": "2021-06-27T20:01:35.065Z"
   },
   {
    "duration": 9,
    "start_time": "2021-06-27T20:01:35.104Z"
   },
   {
    "duration": 41,
    "start_time": "2021-06-27T20:01:35.115Z"
   },
   {
    "duration": 17,
    "start_time": "2021-06-27T20:01:35.159Z"
   },
   {
    "duration": 1746,
    "start_time": "2021-06-27T20:01:35.178Z"
   },
   {
    "duration": 108,
    "start_time": "2021-06-27T20:01:36.928Z"
   },
   {
    "duration": 30,
    "start_time": "2021-06-27T20:01:37.039Z"
   },
   {
    "duration": 328,
    "start_time": "2021-06-27T20:01:37.072Z"
   },
   {
    "duration": 1357,
    "start_time": "2021-06-27T20:01:57.919Z"
   },
   {
    "duration": 40,
    "start_time": "2021-06-27T20:01:59.279Z"
   },
   {
    "duration": 13,
    "start_time": "2021-06-27T20:01:59.322Z"
   },
   {
    "duration": 47,
    "start_time": "2021-06-27T20:01:59.338Z"
   },
   {
    "duration": 84,
    "start_time": "2021-06-27T20:01:59.387Z"
   },
   {
    "duration": -10,
    "start_time": "2021-06-27T20:01:59.484Z"
   },
   {
    "duration": -13,
    "start_time": "2021-06-27T20:01:59.489Z"
   },
   {
    "duration": -14,
    "start_time": "2021-06-27T20:01:59.491Z"
   },
   {
    "duration": -13,
    "start_time": "2021-06-27T20:01:59.492Z"
   },
   {
    "duration": -17,
    "start_time": "2021-06-27T20:01:59.497Z"
   },
   {
    "duration": -16,
    "start_time": "2021-06-27T20:01:59.498Z"
   },
   {
    "duration": 1314,
    "start_time": "2021-06-27T20:02:20.471Z"
   },
   {
    "duration": 40,
    "start_time": "2021-06-27T20:02:21.788Z"
   },
   {
    "duration": 13,
    "start_time": "2021-06-27T20:02:21.831Z"
   },
   {
    "duration": 40,
    "start_time": "2021-06-27T20:02:21.847Z"
   },
   {
    "duration": 10,
    "start_time": "2021-06-27T20:02:21.889Z"
   },
   {
    "duration": 9,
    "start_time": "2021-06-27T20:02:21.901Z"
   },
   {
    "duration": 50,
    "start_time": "2021-06-27T20:02:21.912Z"
   },
   {
    "duration": 1766,
    "start_time": "2021-06-27T20:02:21.966Z"
   },
   {
    "duration": 100,
    "start_time": "2021-06-27T20:02:23.735Z"
   },
   {
    "duration": 35,
    "start_time": "2021-06-27T20:02:23.838Z"
   },
   {
    "duration": 341,
    "start_time": "2021-06-27T20:02:23.876Z"
   },
   {
    "duration": 1311,
    "start_time": "2021-06-27T20:03:48.604Z"
   },
   {
    "duration": 39,
    "start_time": "2021-06-27T20:03:49.918Z"
   },
   {
    "duration": 14,
    "start_time": "2021-06-27T20:03:49.960Z"
   },
   {
    "duration": 38,
    "start_time": "2021-06-27T20:03:49.976Z"
   },
   {
    "duration": 39,
    "start_time": "2021-06-27T20:03:50.016Z"
   },
   {
    "duration": 10,
    "start_time": "2021-06-27T20:03:50.057Z"
   },
   {
    "duration": 16,
    "start_time": "2021-06-27T20:03:50.069Z"
   },
   {
    "duration": 1712,
    "start_time": "2021-06-27T20:03:50.087Z"
   },
   {
    "duration": 103,
    "start_time": "2021-06-27T20:03:51.802Z"
   },
   {
    "duration": 21,
    "start_time": "2021-06-27T20:03:51.907Z"
   },
   {
    "duration": 310,
    "start_time": "2021-06-27T20:03:51.954Z"
   },
   {
    "duration": 1334,
    "start_time": "2021-06-27T20:04:59.271Z"
   },
   {
    "duration": 40,
    "start_time": "2021-06-27T20:05:00.608Z"
   },
   {
    "duration": 15,
    "start_time": "2021-06-27T20:05:00.655Z"
   },
   {
    "duration": 44,
    "start_time": "2021-06-27T20:05:00.673Z"
   },
   {
    "duration": 11,
    "start_time": "2021-06-27T20:05:00.719Z"
   },
   {
    "duration": 46,
    "start_time": "2021-06-27T20:05:00.732Z"
   },
   {
    "duration": 9,
    "start_time": "2021-06-27T20:05:00.781Z"
   },
   {
    "duration": 23,
    "start_time": "2021-06-27T20:05:00.793Z"
   },
   {
    "duration": 1727,
    "start_time": "2021-06-27T20:05:00.820Z"
   },
   {
    "duration": 105,
    "start_time": "2021-06-27T20:05:02.550Z"
   },
   {
    "duration": 23,
    "start_time": "2021-06-27T20:05:02.657Z"
   },
   {
    "duration": 332,
    "start_time": "2021-06-27T20:05:02.682Z"
   },
   {
    "duration": 1369,
    "start_time": "2021-06-27T20:12:42.922Z"
   },
   {
    "duration": 40,
    "start_time": "2021-06-27T20:12:44.293Z"
   },
   {
    "duration": 22,
    "start_time": "2021-06-27T20:12:44.336Z"
   },
   {
    "duration": 35,
    "start_time": "2021-06-27T20:12:44.360Z"
   },
   {
    "duration": 10,
    "start_time": "2021-06-27T20:12:44.398Z"
   },
   {
    "duration": 53,
    "start_time": "2021-06-27T20:12:44.411Z"
   },
   {
    "duration": 8,
    "start_time": "2021-06-27T20:12:44.467Z"
   },
   {
    "duration": 32,
    "start_time": "2021-06-27T20:12:44.478Z"
   },
   {
    "duration": 1751,
    "start_time": "2021-06-27T20:12:44.513Z"
   },
   {
    "duration": 107,
    "start_time": "2021-06-27T20:12:46.267Z"
   },
   {
    "duration": 22,
    "start_time": "2021-06-27T20:12:46.377Z"
   },
   {
    "duration": 334,
    "start_time": "2021-06-27T20:12:46.401Z"
   },
   {
    "duration": 1357,
    "start_time": "2021-06-27T20:15:06.643Z"
   },
   {
    "duration": 40,
    "start_time": "2021-06-27T20:15:08.003Z"
   },
   {
    "duration": 19,
    "start_time": "2021-06-27T20:15:08.047Z"
   },
   {
    "duration": 33,
    "start_time": "2021-06-27T20:15:08.069Z"
   },
   {
    "duration": 10,
    "start_time": "2021-06-27T20:15:08.105Z"
   },
   {
    "duration": 411,
    "start_time": "2021-06-27T20:15:08.117Z"
   },
   {
    "duration": -85,
    "start_time": "2021-06-27T20:15:08.615Z"
   },
   {
    "duration": -84,
    "start_time": "2021-06-27T20:15:08.616Z"
   },
   {
    "duration": -85,
    "start_time": "2021-06-27T20:15:08.618Z"
   },
   {
    "duration": -85,
    "start_time": "2021-06-27T20:15:08.619Z"
   },
   {
    "duration": -89,
    "start_time": "2021-06-27T20:15:08.624Z"
   },
   {
    "duration": -88,
    "start_time": "2021-06-27T20:15:08.625Z"
   },
   {
    "duration": 1486,
    "start_time": "2021-06-27T20:15:40.999Z"
   },
   {
    "duration": 34,
    "start_time": "2021-06-27T20:15:42.487Z"
   },
   {
    "duration": 14,
    "start_time": "2021-06-27T20:15:42.525Z"
   },
   {
    "duration": 35,
    "start_time": "2021-06-27T20:15:42.554Z"
   },
   {
    "duration": 10,
    "start_time": "2021-06-27T20:15:42.591Z"
   },
   {
    "duration": 1754,
    "start_time": "2021-06-27T20:15:42.603Z"
   },
   {
    "duration": 9,
    "start_time": "2021-06-27T20:15:44.359Z"
   },
   {
    "duration": 23,
    "start_time": "2021-06-27T20:15:44.370Z"
   },
   {
    "duration": 1810,
    "start_time": "2021-06-27T20:15:44.397Z"
   },
   {
    "duration": 113,
    "start_time": "2021-06-27T20:15:46.209Z"
   },
   {
    "duration": 35,
    "start_time": "2021-06-27T20:15:46.324Z"
   },
   {
    "duration": 326,
    "start_time": "2021-06-27T20:15:46.362Z"
   },
   {
    "duration": 1552,
    "start_time": "2021-06-27T20:16:18.030Z"
   },
   {
    "duration": 34,
    "start_time": "2021-06-27T20:16:19.584Z"
   },
   {
    "duration": 14,
    "start_time": "2021-06-27T20:16:19.621Z"
   },
   {
    "duration": 47,
    "start_time": "2021-06-27T20:16:19.637Z"
   },
   {
    "duration": 11,
    "start_time": "2021-06-27T20:16:19.687Z"
   },
   {
    "duration": 1588,
    "start_time": "2021-06-27T20:16:19.700Z"
   },
   {
    "duration": 9,
    "start_time": "2021-06-27T20:16:21.291Z"
   },
   {
    "duration": 11,
    "start_time": "2021-06-27T20:16:21.303Z"
   },
   {
    "duration": 1729,
    "start_time": "2021-06-27T20:16:21.319Z"
   },
   {
    "duration": 103,
    "start_time": "2021-06-27T20:16:23.054Z"
   },
   {
    "duration": 22,
    "start_time": "2021-06-27T20:16:23.159Z"
   },
   {
    "duration": 337,
    "start_time": "2021-06-27T20:16:23.183Z"
   },
   {
    "duration": 1639,
    "start_time": "2021-06-27T20:17:46.024Z"
   },
   {
    "duration": 34,
    "start_time": "2021-06-27T20:17:47.666Z"
   },
   {
    "duration": 14,
    "start_time": "2021-06-27T20:17:47.704Z"
   },
   {
    "duration": 54,
    "start_time": "2021-06-27T20:17:47.721Z"
   },
   {
    "duration": 10,
    "start_time": "2021-06-27T20:17:47.777Z"
   },
   {
    "duration": 1601,
    "start_time": "2021-06-27T20:17:47.789Z"
   },
   {
    "duration": 10,
    "start_time": "2021-06-27T20:17:49.392Z"
   },
   {
    "duration": 12,
    "start_time": "2021-06-27T20:17:49.405Z"
   },
   {
    "duration": 1739,
    "start_time": "2021-06-27T20:17:49.421Z"
   },
   {
    "duration": 112,
    "start_time": "2021-06-27T20:17:51.163Z"
   },
   {
    "duration": 24,
    "start_time": "2021-06-27T20:17:51.279Z"
   },
   {
    "duration": 343,
    "start_time": "2021-06-27T20:17:51.306Z"
   },
   {
    "duration": 1574,
    "start_time": "2021-06-27T20:19:17.480Z"
   },
   {
    "duration": 35,
    "start_time": "2021-06-27T20:19:19.057Z"
   },
   {
    "duration": 17,
    "start_time": "2021-06-27T20:19:19.095Z"
   },
   {
    "duration": 60,
    "start_time": "2021-06-27T20:19:19.115Z"
   },
   {
    "duration": 13,
    "start_time": "2021-06-27T20:19:19.179Z"
   },
   {
    "duration": 825,
    "start_time": "2021-06-27T20:19:19.195Z"
   },
   {
    "duration": 12,
    "start_time": "2021-06-27T20:19:20.023Z"
   },
   {
    "duration": 26,
    "start_time": "2021-06-27T20:19:20.039Z"
   },
   {
    "duration": 2343,
    "start_time": "2021-06-27T20:19:20.070Z"
   },
   {
    "duration": 98,
    "start_time": "2021-06-27T20:19:22.416Z"
   },
   {
    "duration": 37,
    "start_time": "2021-06-27T20:19:22.517Z"
   },
   {
    "duration": 335,
    "start_time": "2021-06-27T20:19:22.557Z"
   },
   {
    "duration": 1540,
    "start_time": "2021-06-27T20:20:08.048Z"
   },
   {
    "duration": 37,
    "start_time": "2021-06-27T20:20:09.591Z"
   },
   {
    "duration": 27,
    "start_time": "2021-06-27T20:20:09.632Z"
   },
   {
    "duration": 35,
    "start_time": "2021-06-27T20:20:09.662Z"
   },
   {
    "duration": 12,
    "start_time": "2021-06-27T20:20:09.700Z"
   },
   {
    "duration": 462,
    "start_time": "2021-06-27T20:20:09.714Z"
   },
   {
    "duration": -77,
    "start_time": "2021-06-27T20:20:10.257Z"
   },
   {
    "duration": -97,
    "start_time": "2021-06-27T20:20:10.279Z"
   },
   {
    "duration": -96,
    "start_time": "2021-06-27T20:20:10.281Z"
   },
   {
    "duration": -95,
    "start_time": "2021-06-27T20:20:10.282Z"
   },
   {
    "duration": -95,
    "start_time": "2021-06-27T20:20:10.284Z"
   },
   {
    "duration": -94,
    "start_time": "2021-06-27T20:20:10.286Z"
   },
   {
    "duration": 1585,
    "start_time": "2021-06-27T20:22:40.627Z"
   },
   {
    "duration": 35,
    "start_time": "2021-06-27T20:22:42.215Z"
   },
   {
    "duration": 14,
    "start_time": "2021-06-27T20:22:42.254Z"
   },
   {
    "duration": 43,
    "start_time": "2021-06-27T20:22:42.271Z"
   },
   {
    "duration": 9,
    "start_time": "2021-06-27T20:22:42.317Z"
   },
   {
    "duration": 14,
    "start_time": "2021-06-27T20:22:42.354Z"
   },
   {
    "duration": 10,
    "start_time": "2021-06-27T20:22:42.370Z"
   },
   {
    "duration": 10,
    "start_time": "2021-06-27T20:22:42.383Z"
   },
   {
    "duration": 1812,
    "start_time": "2021-06-27T20:22:42.395Z"
   },
   {
    "duration": 112,
    "start_time": "2021-06-27T20:22:44.210Z"
   },
   {
    "duration": 36,
    "start_time": "2021-06-27T20:22:44.324Z"
   },
   {
    "duration": 359,
    "start_time": "2021-06-27T20:22:44.363Z"
   },
   {
    "duration": 1658,
    "start_time": "2021-06-27T20:24:23.027Z"
   },
   {
    "duration": 37,
    "start_time": "2021-06-27T20:24:24.688Z"
   },
   {
    "duration": 27,
    "start_time": "2021-06-27T20:24:24.730Z"
   },
   {
    "duration": 37,
    "start_time": "2021-06-27T20:24:24.761Z"
   },
   {
    "duration": 10,
    "start_time": "2021-06-27T20:24:24.801Z"
   },
   {
    "duration": 1188,
    "start_time": "2021-06-27T20:24:24.814Z"
   },
   {
    "duration": 10,
    "start_time": "2021-06-27T20:24:26.005Z"
   },
   {
    "duration": 9,
    "start_time": "2021-06-27T20:24:26.020Z"
   },
   {
    "duration": 1869,
    "start_time": "2021-06-27T20:24:26.033Z"
   },
   {
    "duration": 107,
    "start_time": "2021-06-27T20:24:27.905Z"
   },
   {
    "duration": 39,
    "start_time": "2021-06-27T20:24:28.015Z"
   },
   {
    "duration": 320,
    "start_time": "2021-06-27T20:24:28.057Z"
   },
   {
    "duration": 1462,
    "start_time": "2021-06-27T20:26:04.505Z"
   },
   {
    "duration": 36,
    "start_time": "2021-06-27T20:26:05.970Z"
   },
   {
    "duration": 14,
    "start_time": "2021-06-27T20:26:06.009Z"
   },
   {
    "duration": 51,
    "start_time": "2021-06-27T20:26:06.025Z"
   },
   {
    "duration": 9,
    "start_time": "2021-06-27T20:26:06.079Z"
   },
   {
    "duration": 1209,
    "start_time": "2021-06-27T20:26:06.091Z"
   },
   {
    "duration": 9,
    "start_time": "2021-06-27T20:26:07.303Z"
   },
   {
    "duration": 14,
    "start_time": "2021-06-27T20:26:07.315Z"
   },
   {
    "duration": 1726,
    "start_time": "2021-06-27T20:26:07.333Z"
   },
   {
    "duration": 107,
    "start_time": "2021-06-27T20:26:09.062Z"
   },
   {
    "duration": 24,
    "start_time": "2021-06-27T20:26:09.171Z"
   },
   {
    "duration": 356,
    "start_time": "2021-06-27T20:26:09.197Z"
   },
   {
    "duration": 1757,
    "start_time": "2021-06-27T20:29:14.250Z"
   },
   {
    "duration": 34,
    "start_time": "2021-06-27T20:29:16.010Z"
   },
   {
    "duration": 18,
    "start_time": "2021-06-27T20:29:16.047Z"
   },
   {
    "duration": 35,
    "start_time": "2021-06-27T20:29:16.068Z"
   },
   {
    "duration": 10,
    "start_time": "2021-06-27T20:29:16.106Z"
   },
   {
    "duration": 38,
    "start_time": "2021-06-27T20:29:16.118Z"
   },
   {
    "duration": 11,
    "start_time": "2021-06-27T20:29:16.158Z"
   },
   {
    "duration": 1550,
    "start_time": "2021-06-27T20:29:16.173Z"
   },
   {
    "duration": 94,
    "start_time": "2021-06-27T20:29:17.725Z"
   },
   {
    "duration": 38,
    "start_time": "2021-06-27T20:29:17.822Z"
   },
   {
    "duration": 270,
    "start_time": "2021-06-27T20:29:17.863Z"
   },
   {
    "duration": 1538,
    "start_time": "2021-06-27T20:30:44.808Z"
   },
   {
    "duration": 34,
    "start_time": "2021-06-27T20:30:46.349Z"
   },
   {
    "duration": 15,
    "start_time": "2021-06-27T20:30:46.386Z"
   },
   {
    "duration": 51,
    "start_time": "2021-06-27T20:30:46.403Z"
   },
   {
    "duration": 11,
    "start_time": "2021-06-27T20:30:46.456Z"
   },
   {
    "duration": 21,
    "start_time": "2021-06-27T20:30:46.469Z"
   },
   {
    "duration": 13,
    "start_time": "2021-06-27T20:30:46.493Z"
   },
   {
    "duration": 9559,
    "start_time": "2021-06-27T20:30:46.509Z"
   },
   {
    "duration": 99,
    "start_time": "2021-06-27T20:30:56.071Z"
   },
   {
    "duration": 28,
    "start_time": "2021-06-27T20:30:56.172Z"
   },
   {
    "duration": 288,
    "start_time": "2021-06-27T20:30:56.202Z"
   },
   {
    "duration": 1491,
    "start_time": "2021-06-27T20:34:18.080Z"
   },
   {
    "duration": 35,
    "start_time": "2021-06-27T20:34:19.574Z"
   },
   {
    "duration": 13,
    "start_time": "2021-06-27T20:34:19.612Z"
   },
   {
    "duration": 47,
    "start_time": "2021-06-27T20:34:19.628Z"
   },
   {
    "duration": 10,
    "start_time": "2021-06-27T20:34:19.677Z"
   },
   {
    "duration": 9,
    "start_time": "2021-06-27T20:34:19.689Z"
   },
   {
    "duration": 13,
    "start_time": "2021-06-27T20:34:19.700Z"
   },
   {
    "duration": 9158,
    "start_time": "2021-06-27T20:34:19.715Z"
   },
   {
    "duration": 98,
    "start_time": "2021-06-27T20:34:28.876Z"
   },
   {
    "duration": 26,
    "start_time": "2021-06-27T20:34:28.976Z"
   },
   {
    "duration": 282,
    "start_time": "2021-06-27T20:34:29.005Z"
   },
   {
    "duration": 1659,
    "start_time": "2021-06-27T20:34:59.031Z"
   },
   {
    "duration": 36,
    "start_time": "2021-06-27T20:35:00.693Z"
   },
   {
    "duration": 26,
    "start_time": "2021-06-27T20:35:00.734Z"
   },
   {
    "duration": 46,
    "start_time": "2021-06-27T20:35:00.763Z"
   },
   {
    "duration": 10,
    "start_time": "2021-06-27T20:35:00.812Z"
   },
   {
    "duration": 34,
    "start_time": "2021-06-27T20:35:00.825Z"
   },
   {
    "duration": 11,
    "start_time": "2021-06-27T20:35:00.862Z"
   },
   {
    "duration": 9163,
    "start_time": "2021-06-27T20:35:00.876Z"
   },
   {
    "duration": 94,
    "start_time": "2021-06-27T20:35:10.042Z"
   },
   {
    "duration": 38,
    "start_time": "2021-06-27T20:35:10.139Z"
   },
   {
    "duration": 291,
    "start_time": "2021-06-27T20:35:10.179Z"
   },
   {
    "duration": 1535,
    "start_time": "2021-06-27T20:37:37.947Z"
   },
   {
    "duration": 34,
    "start_time": "2021-06-27T20:37:39.485Z"
   },
   {
    "duration": 15,
    "start_time": "2021-06-27T20:37:39.522Z"
   },
   {
    "duration": 47,
    "start_time": "2021-06-27T20:37:39.540Z"
   },
   {
    "duration": 9,
    "start_time": "2021-06-27T20:37:39.590Z"
   },
   {
    "duration": 9,
    "start_time": "2021-06-27T20:37:39.602Z"
   },
   {
    "duration": 45,
    "start_time": "2021-06-27T20:37:39.613Z"
   },
   {
    "duration": 9346,
    "start_time": "2021-06-27T20:37:39.661Z"
   },
   {
    "duration": -10,
    "start_time": "2021-06-27T20:37:49.021Z"
   },
   {
    "duration": -12,
    "start_time": "2021-06-27T20:37:49.025Z"
   },
   {
    "duration": -10,
    "start_time": "2021-06-27T20:37:49.026Z"
   },
   {
    "duration": 1545,
    "start_time": "2021-06-27T20:38:17.623Z"
   },
   {
    "duration": 35,
    "start_time": "2021-06-27T20:38:19.171Z"
   },
   {
    "duration": 14,
    "start_time": "2021-06-27T20:38:19.209Z"
   },
   {
    "duration": 53,
    "start_time": "2021-06-27T20:38:19.226Z"
   },
   {
    "duration": 10,
    "start_time": "2021-06-27T20:38:19.282Z"
   },
   {
    "duration": 11,
    "start_time": "2021-06-27T20:38:19.294Z"
   },
   {
    "duration": 9,
    "start_time": "2021-06-27T20:38:19.308Z"
   },
   {
    "duration": 9249,
    "start_time": "2021-06-27T20:38:19.355Z"
   },
   {
    "duration": -14,
    "start_time": "2021-06-27T20:38:28.621Z"
   },
   {
    "duration": -16,
    "start_time": "2021-06-27T20:38:28.624Z"
   },
   {
    "duration": -16,
    "start_time": "2021-06-27T20:38:28.625Z"
   },
   {
    "duration": 1663,
    "start_time": "2021-06-27T20:38:48.704Z"
   },
   {
    "duration": 37,
    "start_time": "2021-06-27T20:38:50.370Z"
   },
   {
    "duration": 14,
    "start_time": "2021-06-27T20:38:50.410Z"
   },
   {
    "duration": 61,
    "start_time": "2021-06-27T20:38:50.427Z"
   },
   {
    "duration": 10,
    "start_time": "2021-06-27T20:38:50.490Z"
   },
   {
    "duration": 8,
    "start_time": "2021-06-27T20:38:50.502Z"
   },
   {
    "duration": 10,
    "start_time": "2021-06-27T20:38:50.513Z"
   },
   {
    "duration": 9216,
    "start_time": "2021-06-27T20:38:50.554Z"
   },
   {
    "duration": 99,
    "start_time": "2021-06-27T20:38:59.773Z"
   },
   {
    "duration": 27,
    "start_time": "2021-06-27T20:38:59.874Z"
   },
   {
    "duration": 289,
    "start_time": "2021-06-27T20:38:59.903Z"
   },
   {
    "duration": 1514,
    "start_time": "2021-06-27T20:41:50.252Z"
   },
   {
    "duration": 35,
    "start_time": "2021-06-27T20:41:51.769Z"
   },
   {
    "duration": 15,
    "start_time": "2021-06-27T20:41:51.807Z"
   },
   {
    "duration": 50,
    "start_time": "2021-06-27T20:41:51.825Z"
   },
   {
    "duration": 10,
    "start_time": "2021-06-27T20:41:51.877Z"
   },
   {
    "duration": 9,
    "start_time": "2021-06-27T20:41:51.890Z"
   },
   {
    "duration": 9,
    "start_time": "2021-06-27T20:41:51.901Z"
   },
   {
    "duration": 8977,
    "start_time": "2021-06-27T20:41:51.913Z"
   },
   {
    "duration": 102,
    "start_time": "2021-06-27T20:42:00.893Z"
   },
   {
    "duration": 27,
    "start_time": "2021-06-27T20:42:00.998Z"
   },
   {
    "duration": 294,
    "start_time": "2021-06-27T20:42:01.028Z"
   },
   {
    "duration": 1483,
    "start_time": "2021-06-27T20:43:54.792Z"
   },
   {
    "duration": 36,
    "start_time": "2021-06-27T20:43:56.278Z"
   },
   {
    "duration": 13,
    "start_time": "2021-06-27T20:43:56.317Z"
   },
   {
    "duration": 50,
    "start_time": "2021-06-27T20:43:56.333Z"
   },
   {
    "duration": 9,
    "start_time": "2021-06-27T20:43:56.385Z"
   },
   {
    "duration": 14,
    "start_time": "2021-06-27T20:43:56.396Z"
   },
   {
    "duration": 10,
    "start_time": "2021-06-27T20:43:56.412Z"
   },
   {
    "duration": 8841,
    "start_time": "2021-06-27T20:43:56.425Z"
   },
   {
    "duration": 100,
    "start_time": "2021-06-27T20:44:05.271Z"
   },
   {
    "duration": 28,
    "start_time": "2021-06-27T20:44:05.374Z"
   },
   {
    "duration": 282,
    "start_time": "2021-06-27T20:44:05.404Z"
   },
   {
    "duration": 1626,
    "start_time": "2021-06-27T20:49:53.318Z"
   },
   {
    "duration": 36,
    "start_time": "2021-06-27T20:49:54.947Z"
   },
   {
    "duration": 16,
    "start_time": "2021-06-27T20:49:54.987Z"
   },
   {
    "duration": 65,
    "start_time": "2021-06-27T20:49:55.006Z"
   },
   {
    "duration": 12,
    "start_time": "2021-06-27T20:49:55.074Z"
   },
   {
    "duration": 26,
    "start_time": "2021-06-27T20:49:55.089Z"
   },
   {
    "duration": 43,
    "start_time": "2021-06-27T20:49:55.118Z"
   },
   {
    "duration": 10,
    "start_time": "2021-06-27T20:49:55.163Z"
   },
   {
    "duration": 9053,
    "start_time": "2021-06-27T20:49:55.177Z"
   },
   {
    "duration": 93,
    "start_time": "2021-06-27T20:50:04.233Z"
   },
   {
    "duration": 42,
    "start_time": "2021-06-27T20:50:04.328Z"
   },
   {
    "duration": 279,
    "start_time": "2021-06-27T20:50:04.372Z"
   },
   {
    "duration": 1472,
    "start_time": "2021-06-27T20:50:14.588Z"
   },
   {
    "duration": 34,
    "start_time": "2021-06-27T20:50:16.062Z"
   },
   {
    "duration": 14,
    "start_time": "2021-06-27T20:50:16.099Z"
   },
   {
    "duration": 48,
    "start_time": "2021-06-27T20:50:16.116Z"
   },
   {
    "duration": 11,
    "start_time": "2021-06-27T20:50:16.167Z"
   },
   {
    "duration": 27,
    "start_time": "2021-06-27T20:50:16.180Z"
   },
   {
    "duration": 8,
    "start_time": "2021-06-27T20:50:16.210Z"
   },
   {
    "duration": 39,
    "start_time": "2021-06-27T20:50:16.221Z"
   },
   {
    "duration": 9097,
    "start_time": "2021-06-27T20:50:16.263Z"
   },
   {
    "duration": 102,
    "start_time": "2021-06-27T20:50:25.362Z"
   },
   {
    "duration": 25,
    "start_time": "2021-06-27T20:50:25.467Z"
   },
   {
    "duration": 286,
    "start_time": "2021-06-27T20:50:25.495Z"
   },
   {
    "duration": 1501,
    "start_time": "2021-06-27T21:04:35.568Z"
   },
   {
    "duration": 34,
    "start_time": "2021-06-27T21:04:37.071Z"
   },
   {
    "duration": 16,
    "start_time": "2021-06-27T21:04:37.109Z"
   },
   {
    "duration": 55,
    "start_time": "2021-06-27T21:04:37.128Z"
   },
   {
    "duration": 10,
    "start_time": "2021-06-27T21:04:37.185Z"
   },
   {
    "duration": 26,
    "start_time": "2021-06-27T21:04:37.197Z"
   },
   {
    "duration": 34,
    "start_time": "2021-06-27T21:04:37.225Z"
   },
   {
    "duration": 11,
    "start_time": "2021-06-27T21:04:37.261Z"
   },
   {
    "duration": 9584,
    "start_time": "2021-06-27T21:04:37.276Z"
   },
   {
    "duration": 101,
    "start_time": "2021-06-27T21:04:46.863Z"
   },
   {
    "duration": 28,
    "start_time": "2021-06-27T21:04:46.966Z"
   },
   {
    "duration": 292,
    "start_time": "2021-06-27T21:04:46.998Z"
   },
   {
    "duration": 13,
    "start_time": "2021-06-27T21:04:47.292Z"
   },
   {
    "duration": 1499,
    "start_time": "2021-06-27T21:32:25.711Z"
   },
   {
    "duration": 34,
    "start_time": "2021-06-27T21:32:27.213Z"
   },
   {
    "duration": 15,
    "start_time": "2021-06-27T21:32:27.253Z"
   },
   {
    "duration": 51,
    "start_time": "2021-06-27T21:32:27.271Z"
   },
   {
    "duration": 9,
    "start_time": "2021-06-27T21:32:27.324Z"
   },
   {
    "duration": 25,
    "start_time": "2021-06-27T21:32:27.354Z"
   },
   {
    "duration": 429,
    "start_time": "2021-06-27T21:32:27.382Z"
   },
   {
    "duration": -26,
    "start_time": "2021-06-27T21:32:27.840Z"
   },
   {
    "duration": -27,
    "start_time": "2021-06-27T21:32:27.842Z"
   },
   {
    "duration": -31,
    "start_time": "2021-06-27T21:32:27.847Z"
   },
   {
    "duration": -31,
    "start_time": "2021-06-27T21:32:27.849Z"
   },
   {
    "duration": -32,
    "start_time": "2021-06-27T21:32:27.851Z"
   },
   {
    "duration": -32,
    "start_time": "2021-06-27T21:32:27.852Z"
   },
   {
    "duration": -33,
    "start_time": "2021-06-27T21:32:27.855Z"
   },
   {
    "duration": 1648,
    "start_time": "2021-06-27T21:33:03.337Z"
   },
   {
    "duration": 37,
    "start_time": "2021-06-27T21:33:04.988Z"
   },
   {
    "duration": 28,
    "start_time": "2021-06-27T21:33:05.028Z"
   },
   {
    "duration": 37,
    "start_time": "2021-06-27T21:33:05.059Z"
   },
   {
    "duration": 10,
    "start_time": "2021-06-27T21:33:05.098Z"
   },
   {
    "duration": 46,
    "start_time": "2021-06-27T21:33:05.110Z"
   },
   {
    "duration": 82,
    "start_time": "2021-06-27T21:33:05.158Z"
   },
   {
    "duration": -161,
    "start_time": "2021-06-27T21:33:05.404Z"
   },
   {
    "duration": -162,
    "start_time": "2021-06-27T21:33:05.406Z"
   },
   {
    "duration": -163,
    "start_time": "2021-06-27T21:33:05.408Z"
   },
   {
    "duration": -165,
    "start_time": "2021-06-27T21:33:05.411Z"
   },
   {
    "duration": -165,
    "start_time": "2021-06-27T21:33:05.412Z"
   },
   {
    "duration": -174,
    "start_time": "2021-06-27T21:33:05.423Z"
   },
   {
    "duration": -175,
    "start_time": "2021-06-27T21:33:05.425Z"
   },
   {
    "duration": 1457,
    "start_time": "2021-06-27T21:33:42.508Z"
   },
   {
    "duration": 34,
    "start_time": "2021-06-27T21:33:43.968Z"
   },
   {
    "duration": 14,
    "start_time": "2021-06-27T21:33:44.006Z"
   },
   {
    "duration": 47,
    "start_time": "2021-06-27T21:33:44.023Z"
   },
   {
    "duration": 10,
    "start_time": "2021-06-27T21:33:44.073Z"
   },
   {
    "duration": 33,
    "start_time": "2021-06-27T21:33:44.086Z"
   },
   {
    "duration": 90,
    "start_time": "2021-06-27T21:33:44.122Z"
   },
   {
    "duration": -84,
    "start_time": "2021-06-27T21:33:44.299Z"
   },
   {
    "duration": -84,
    "start_time": "2021-06-27T21:33:44.301Z"
   },
   {
    "duration": -85,
    "start_time": "2021-06-27T21:33:44.303Z"
   },
   {
    "duration": -86,
    "start_time": "2021-06-27T21:33:44.305Z"
   },
   {
    "duration": -86,
    "start_time": "2021-06-27T21:33:44.307Z"
   },
   {
    "duration": -86,
    "start_time": "2021-06-27T21:33:44.308Z"
   },
   {
    "duration": -87,
    "start_time": "2021-06-27T21:33:44.310Z"
   },
   {
    "duration": 1760,
    "start_time": "2021-06-27T21:33:57.145Z"
   },
   {
    "duration": 46,
    "start_time": "2021-06-27T21:33:58.908Z"
   },
   {
    "duration": 16,
    "start_time": "2021-06-27T21:33:58.958Z"
   },
   {
    "duration": 44,
    "start_time": "2021-06-27T21:33:58.977Z"
   },
   {
    "duration": 30,
    "start_time": "2021-06-27T21:33:59.024Z"
   },
   {
    "duration": 24,
    "start_time": "2021-06-27T21:33:59.057Z"
   },
   {
    "duration": 14,
    "start_time": "2021-06-27T21:33:59.083Z"
   },
   {
    "duration": 28,
    "start_time": "2021-06-27T21:33:59.099Z"
   },
   {
    "duration": 26,
    "start_time": "2021-06-27T21:33:59.131Z"
   },
   {
    "duration": 7969,
    "start_time": "2021-06-27T21:33:59.159Z"
   },
   {
    "duration": 82,
    "start_time": "2021-06-27T21:34:07.130Z"
   },
   {
    "duration": 44,
    "start_time": "2021-06-27T21:34:07.214Z"
   },
   {
    "duration": 211,
    "start_time": "2021-06-27T21:34:07.260Z"
   },
   {
    "duration": 13,
    "start_time": "2021-06-27T21:34:07.473Z"
   },
   {
    "duration": 1510,
    "start_time": "2021-06-27T21:36:21.858Z"
   },
   {
    "duration": 34,
    "start_time": "2021-06-27T21:36:23.371Z"
   },
   {
    "duration": 14,
    "start_time": "2021-06-27T21:36:23.408Z"
   },
   {
    "duration": 52,
    "start_time": "2021-06-27T21:36:23.425Z"
   },
   {
    "duration": 10,
    "start_time": "2021-06-27T21:36:23.480Z"
   },
   {
    "duration": 25,
    "start_time": "2021-06-27T21:36:23.493Z"
   },
   {
    "duration": 43,
    "start_time": "2021-06-27T21:36:23.521Z"
   },
   {
    "duration": 10,
    "start_time": "2021-06-27T21:36:23.567Z"
   },
   {
    "duration": 10,
    "start_time": "2021-06-27T21:36:23.579Z"
   },
   {
    "duration": 7370,
    "start_time": "2021-06-27T21:36:23.592Z"
   },
   {
    "duration": 5,
    "start_time": "2021-06-27T21:36:30.965Z"
   },
   {
    "duration": -72,
    "start_time": "2021-06-27T21:36:31.045Z"
   },
   {
    "duration": -73,
    "start_time": "2021-06-27T21:36:31.047Z"
   },
   {
    "duration": -82,
    "start_time": "2021-06-27T21:36:31.058Z"
   },
   {
    "duration": 1546,
    "start_time": "2021-06-27T21:37:07.322Z"
   },
   {
    "duration": 33,
    "start_time": "2021-06-27T21:37:08.871Z"
   },
   {
    "duration": 13,
    "start_time": "2021-06-27T21:37:08.907Z"
   },
   {
    "duration": 54,
    "start_time": "2021-06-27T21:37:08.923Z"
   },
   {
    "duration": 11,
    "start_time": "2021-06-27T21:37:08.979Z"
   },
   {
    "duration": 26,
    "start_time": "2021-06-27T21:37:08.992Z"
   },
   {
    "duration": 44,
    "start_time": "2021-06-27T21:37:09.020Z"
   },
   {
    "duration": 9,
    "start_time": "2021-06-27T21:37:09.068Z"
   },
   {
    "duration": 10,
    "start_time": "2021-06-27T21:37:09.079Z"
   },
   {
    "duration": 7912,
    "start_time": "2021-06-27T21:37:09.092Z"
   },
   {
    "duration": 5,
    "start_time": "2021-06-27T21:37:17.007Z"
   },
   {
    "duration": -411,
    "start_time": "2021-06-27T21:37:17.425Z"
   },
   {
    "duration": -411,
    "start_time": "2021-06-27T21:37:17.427Z"
   },
   {
    "duration": -414,
    "start_time": "2021-06-27T21:37:17.431Z"
   },
   {
    "duration": 1519,
    "start_time": "2021-06-27T21:37:55.859Z"
   },
   {
    "duration": 36,
    "start_time": "2021-06-27T21:37:57.381Z"
   },
   {
    "duration": 14,
    "start_time": "2021-06-27T21:37:57.420Z"
   },
   {
    "duration": 50,
    "start_time": "2021-06-27T21:37:57.437Z"
   },
   {
    "duration": 10,
    "start_time": "2021-06-27T21:37:57.489Z"
   },
   {
    "duration": 57,
    "start_time": "2021-06-27T21:37:57.502Z"
   },
   {
    "duration": 13,
    "start_time": "2021-06-27T21:37:57.562Z"
   },
   {
    "duration": 11,
    "start_time": "2021-06-27T21:37:57.578Z"
   },
   {
    "duration": 9,
    "start_time": "2021-06-27T21:37:57.593Z"
   },
   {
    "duration": 8361,
    "start_time": "2021-06-27T21:37:57.605Z"
   },
   {
    "duration": 105,
    "start_time": "2021-06-27T21:38:05.970Z"
   },
   {
    "duration": 19,
    "start_time": "2021-06-27T21:38:06.078Z"
   },
   {
    "duration": 219,
    "start_time": "2021-06-27T21:38:06.100Z"
   },
   {
    "duration": 14,
    "start_time": "2021-06-27T21:38:06.322Z"
   },
   {
    "duration": 1477,
    "start_time": "2021-06-27T21:39:19.293Z"
   },
   {
    "duration": 35,
    "start_time": "2021-06-27T21:39:20.773Z"
   },
   {
    "duration": 15,
    "start_time": "2021-06-27T21:39:20.812Z"
   },
   {
    "duration": 53,
    "start_time": "2021-06-27T21:39:20.830Z"
   },
   {
    "duration": 10,
    "start_time": "2021-06-27T21:39:20.885Z"
   },
   {
    "duration": 26,
    "start_time": "2021-06-27T21:39:20.897Z"
   },
   {
    "duration": 38,
    "start_time": "2021-06-27T21:39:20.925Z"
   },
   {
    "duration": 14,
    "start_time": "2021-06-27T21:39:20.966Z"
   },
   {
    "duration": 9,
    "start_time": "2021-06-27T21:39:20.983Z"
   },
   {
    "duration": 7597,
    "start_time": "2021-06-27T21:39:20.995Z"
   },
   {
    "duration": 82,
    "start_time": "2021-06-27T21:39:28.595Z"
   },
   {
    "duration": 36,
    "start_time": "2021-06-27T21:39:28.679Z"
   },
   {
    "duration": 180,
    "start_time": "2021-06-27T21:39:28.728Z"
   },
   {
    "duration": 34,
    "start_time": "2021-06-27T21:39:28.911Z"
   }
  ],
  "kernelspec": {
   "display_name": "Python 3",
   "language": "python",
   "name": "python3"
  },
  "language_info": {
   "codemirror_mode": {
    "name": "ipython",
    "version": 3
   },
   "file_extension": ".py",
   "mimetype": "text/x-python",
   "name": "python",
   "nbconvert_exporter": "python",
   "pygments_lexer": "ipython3",
   "version": "3.7.8"
  },
  "toc": {
   "base_numbering": 1,
   "nav_menu": {},
   "number_sections": true,
   "sideBar": true,
   "skip_h1_title": true,
   "title_cell": "Table of Contents",
   "title_sidebar": "Contents",
   "toc_cell": false,
   "toc_position": {},
   "toc_section_display": true,
   "toc_window_display": false
  }
 },
 "nbformat": 4,
 "nbformat_minor": 2
}
